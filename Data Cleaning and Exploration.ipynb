{
 "cells": [
  {
   "cell_type": "code",
   "execution_count": 1,
   "metadata": {},
   "outputs": [],
   "source": [
    "import numpy as np\n",
    "import pandas as pd"
   ]
  },
  {
   "cell_type": "markdown",
   "metadata": {},
   "source": [
    "## Dataset: A subset of all the purchases of beverages made in Thailand in a given time period"
   ]
  },
  {
   "cell_type": "markdown",
   "metadata": {},
   "source": [
    "# In this notebook, we have two main purposes\n",
    "### 1. <font color='red'> Clean </font> our dataset.\n",
    "### 2. <font color='red'> Explore </font> and understand the dataset, for further analysis and visualisations later."
   ]
  },
  {
   "cell_type": "code",
   "execution_count": 2,
   "metadata": {},
   "outputs": [],
   "source": [
    "data = pd.read_excel(\"EXAMPLE_BEVERAGE_DATA_THAILAND.xlsx\")"
   ]
  },
  {
   "cell_type": "code",
   "execution_count": 3,
   "metadata": {},
   "outputs": [
    {
     "data": {
      "text/plain": [
       "(398912, 35)"
      ]
     },
     "execution_count": 3,
     "metadata": {},
     "output_type": "execute_result"
    }
   ],
   "source": [
    "data.shape"
   ]
  },
  {
   "cell_type": "code",
   "execution_count": 4,
   "metadata": {},
   "outputs": [
    {
     "data": {
      "text/html": [
       "<div>\n",
       "<style scoped>\n",
       "    .dataframe tbody tr th:only-of-type {\n",
       "        vertical-align: middle;\n",
       "    }\n",
       "\n",
       "    .dataframe tbody tr th {\n",
       "        vertical-align: top;\n",
       "    }\n",
       "\n",
       "    .dataframe thead th {\n",
       "        text-align: right;\n",
       "    }\n",
       "</style>\n",
       "<table border=\"1\" class=\"dataframe\">\n",
       "  <thead>\n",
       "    <tr style=\"text-align: right;\">\n",
       "      <th></th>\n",
       "      <th>seqno</th>\n",
       "      <th>HOUSEID</th>\n",
       "      <th>date1</th>\n",
       "      <th>date2</th>\n",
       "      <th>Date3</th>\n",
       "      <th>weekday</th>\n",
       "      <th>REFID</th>\n",
       "      <th>trade</th>\n",
       "      <th>channel</th>\n",
       "      <th>STORENAME</th>\n",
       "      <th>...</th>\n",
       "      <th>SKU_DESC</th>\n",
       "      <th>CW_1Y</th>\n",
       "      <th>CW_2Y</th>\n",
       "      <th>DEMOG_AREA</th>\n",
       "      <th>DEMOG_HHINCOME</th>\n",
       "      <th>DEMOG_HHSIZE</th>\n",
       "      <th>DEMOG_LIFESTAGE</th>\n",
       "      <th>DEMOG_HWAGE</th>\n",
       "      <th>DEMOG_REGION</th>\n",
       "      <th>DEMOG_WORKINGSTATUS</th>\n",
       "    </tr>\n",
       "  </thead>\n",
       "  <tbody>\n",
       "    <tr>\n",
       "      <td>0</td>\n",
       "      <td>1</td>\n",
       "      <td>1</td>\n",
       "      <td>1 w/e 2016/01/03</td>\n",
       "      <td>4 w/e 2016/01/03</td>\n",
       "      <td>2016-01-03</td>\n",
       "      <td>Saturday</td>\n",
       "      <td>REFID04203050235002000000100000000</td>\n",
       "      <td>Modern Trade</td>\n",
       "      <td>Hypermarkets</td>\n",
       "      <td>Makro</td>\n",
       "      <td>...</td>\n",
       "      <td>RTD TEA YEN YEN BY ICHITAN 316.6ML X6 COOL HER...</td>\n",
       "      <td>970</td>\n",
       "      <td>662</td>\n",
       "      <td>Greater Bangkok</td>\n",
       "      <td>Urban &gt;40000</td>\n",
       "      <td>3-4 Member HH</td>\n",
       "      <td>Mixed Adults Families</td>\n",
       "      <td>HWife age 50+</td>\n",
       "      <td>Greater Bangkok</td>\n",
       "      <td>Working</td>\n",
       "    </tr>\n",
       "    <tr>\n",
       "      <td>1</td>\n",
       "      <td>2</td>\n",
       "      <td>1</td>\n",
       "      <td>1 w/e 2016/01/03</td>\n",
       "      <td>4 w/e 2016/01/03</td>\n",
       "      <td>2016-01-03</td>\n",
       "      <td>Saturday</td>\n",
       "      <td>REFID04203420323002000000100000000</td>\n",
       "      <td>Modern Trade</td>\n",
       "      <td>Hypermarkets</td>\n",
       "      <td>Makro</td>\n",
       "      <td>...</td>\n",
       "      <td>RTD TEA YEN JAB JAI 400ML X24 JUBLIANG HERBAL ...</td>\n",
       "      <td>970</td>\n",
       "      <td>662</td>\n",
       "      <td>Greater Bangkok</td>\n",
       "      <td>Urban &gt;40000</td>\n",
       "      <td>3-4 Member HH</td>\n",
       "      <td>Mixed Adults Families</td>\n",
       "      <td>HWife age 50+</td>\n",
       "      <td>Greater Bangkok</td>\n",
       "      <td>Working</td>\n",
       "    </tr>\n",
       "    <tr>\n",
       "      <td>2</td>\n",
       "      <td>3</td>\n",
       "      <td>1</td>\n",
       "      <td>1 w/e 2016/01/03</td>\n",
       "      <td>4 w/e 2016/01/03</td>\n",
       "      <td>2016-01-03</td>\n",
       "      <td>Thursday</td>\n",
       "      <td>REFID05102010120003000100000000000</td>\n",
       "      <td>Modern Trade</td>\n",
       "      <td>Hypermarkets</td>\n",
       "      <td>Big C</td>\n",
       "      <td>...</td>\n",
       "      <td>CSD PEPSI 1000ML X12 COLA PLASTIC BOTTLE</td>\n",
       "      <td>970</td>\n",
       "      <td>662</td>\n",
       "      <td>Greater Bangkok</td>\n",
       "      <td>Urban &gt;40000</td>\n",
       "      <td>3-4 Member HH</td>\n",
       "      <td>Mixed Adults Families</td>\n",
       "      <td>HWife age 50+</td>\n",
       "      <td>Greater Bangkok</td>\n",
       "      <td>Working</td>\n",
       "    </tr>\n",
       "    <tr>\n",
       "      <td>3</td>\n",
       "      <td>4</td>\n",
       "      <td>1</td>\n",
       "      <td>1 w/e 2016/01/03</td>\n",
       "      <td>4 w/e 2016/01/03</td>\n",
       "      <td>2016-01-03</td>\n",
       "      <td>Thursday</td>\n",
       "      <td>REFID05102050125003000200000000000</td>\n",
       "      <td>Modern Trade</td>\n",
       "      <td>Hypermarkets</td>\n",
       "      <td>Big C</td>\n",
       "      <td>...</td>\n",
       "      <td>CSD FANTA 1300ML STRAWBERRY PLASTIC BOTTLE</td>\n",
       "      <td>970</td>\n",
       "      <td>662</td>\n",
       "      <td>Greater Bangkok</td>\n",
       "      <td>Urban &gt;40000</td>\n",
       "      <td>3-4 Member HH</td>\n",
       "      <td>Mixed Adults Families</td>\n",
       "      <td>HWife age 50+</td>\n",
       "      <td>Greater Bangkok</td>\n",
       "      <td>Working</td>\n",
       "    </tr>\n",
       "    <tr>\n",
       "      <td>4</td>\n",
       "      <td>5</td>\n",
       "      <td>1</td>\n",
       "      <td>1 w/e 2016/01/24</td>\n",
       "      <td>4 w/e 2016/01/31</td>\n",
       "      <td>2016-01-24</td>\n",
       "      <td>Thursday</td>\n",
       "      <td>REFID04202810100002000000700000000</td>\n",
       "      <td>Modern Trade</td>\n",
       "      <td>Hypermarkets</td>\n",
       "      <td>Big C</td>\n",
       "      <td>...</td>\n",
       "      <td>RTD TEA LIPTON 1000ML LEMON ICE TEA BOTTLE PLA...</td>\n",
       "      <td>970</td>\n",
       "      <td>662</td>\n",
       "      <td>Greater Bangkok</td>\n",
       "      <td>Urban &gt;40000</td>\n",
       "      <td>3-4 Member HH</td>\n",
       "      <td>Mixed Adults Families</td>\n",
       "      <td>HWife age 50+</td>\n",
       "      <td>Greater Bangkok</td>\n",
       "      <td>Working</td>\n",
       "    </tr>\n",
       "  </tbody>\n",
       "</table>\n",
       "<p>5 rows × 35 columns</p>\n",
       "</div>"
      ],
      "text/plain": [
       "   seqno  HOUSEID             date1             date2      Date3   weekday  \\\n",
       "0      1        1  1 w/e 2016/01/03  4 w/e 2016/01/03 2016-01-03  Saturday   \n",
       "1      2        1  1 w/e 2016/01/03  4 w/e 2016/01/03 2016-01-03  Saturday   \n",
       "2      3        1  1 w/e 2016/01/03  4 w/e 2016/01/03 2016-01-03  Thursday   \n",
       "3      4        1  1 w/e 2016/01/03  4 w/e 2016/01/03 2016-01-03  Thursday   \n",
       "4      5        1  1 w/e 2016/01/24  4 w/e 2016/01/31 2016-01-24  Thursday   \n",
       "\n",
       "                                REFID         trade       channel STORENAME  \\\n",
       "0  REFID04203050235002000000100000000  Modern Trade  Hypermarkets     Makro   \n",
       "1  REFID04203420323002000000100000000  Modern Trade  Hypermarkets     Makro   \n",
       "2  REFID05102010120003000100000000000  Modern Trade  Hypermarkets     Big C   \n",
       "3  REFID05102050125003000200000000000  Modern Trade  Hypermarkets     Big C   \n",
       "4  REFID04202810100002000000700000000  Modern Trade  Hypermarkets     Big C   \n",
       "\n",
       "   ...                                           SKU_DESC  CW_1Y  CW_2Y  \\\n",
       "0  ...  RTD TEA YEN YEN BY ICHITAN 316.6ML X6 COOL HER...    970    662   \n",
       "1  ...  RTD TEA YEN JAB JAI 400ML X24 JUBLIANG HERBAL ...    970    662   \n",
       "2  ...           CSD PEPSI 1000ML X12 COLA PLASTIC BOTTLE    970    662   \n",
       "3  ...         CSD FANTA 1300ML STRAWBERRY PLASTIC BOTTLE    970    662   \n",
       "4  ...  RTD TEA LIPTON 1000ML LEMON ICE TEA BOTTLE PLA...    970    662   \n",
       "\n",
       "        DEMOG_AREA  DEMOG_HHINCOME   DEMOG_HHSIZE        DEMOG_LIFESTAGE  \\\n",
       "0  Greater Bangkok    Urban >40000  3-4 Member HH  Mixed Adults Families   \n",
       "1  Greater Bangkok    Urban >40000  3-4 Member HH  Mixed Adults Families   \n",
       "2  Greater Bangkok    Urban >40000  3-4 Member HH  Mixed Adults Families   \n",
       "3  Greater Bangkok    Urban >40000  3-4 Member HH  Mixed Adults Families   \n",
       "4  Greater Bangkok    Urban >40000  3-4 Member HH  Mixed Adults Families   \n",
       "\n",
       "     DEMOG_HWAGE     DEMOG_REGION DEMOG_WORKINGSTATUS  \n",
       "0  HWife age 50+  Greater Bangkok             Working  \n",
       "1  HWife age 50+  Greater Bangkok             Working  \n",
       "2  HWife age 50+  Greater Bangkok             Working  \n",
       "3  HWife age 50+  Greater Bangkok             Working  \n",
       "4  HWife age 50+  Greater Bangkok             Working  \n",
       "\n",
       "[5 rows x 35 columns]"
      ]
     },
     "execution_count": 4,
     "metadata": {},
     "output_type": "execute_result"
    }
   ],
   "source": [
    "data.head()"
   ]
  },
  {
   "cell_type": "markdown",
   "metadata": {},
   "source": [
    "Drop **seqno** as it is just index of the rows in the dataframe. \n",
    "\n",
    "Drop **REFID** as it is just the serial number. \n",
    "\n",
    "Drop **date1** and **date2** as well (told by Professor) and just use **Date3**. \n",
    "\n",
    "Drop **CW_1Y** and **CW_2Y** as well (told by Professor)."
   ]
  },
  {
   "cell_type": "code",
   "execution_count": 5,
   "metadata": {},
   "outputs": [],
   "source": [
    "data = data.drop(labels = ['seqno', 'date1', 'date2', 'REFID', 'CW_1Y', 'CW_2Y'], axis = 1)"
   ]
  },
  {
   "cell_type": "markdown",
   "metadata": {},
   "source": [
    "Now, let us look at the type of data we have."
   ]
  },
  {
   "cell_type": "code",
   "execution_count": 6,
   "metadata": {},
   "outputs": [
    {
     "name": "stdout",
     "output_type": "stream",
     "text": [
      "<class 'pandas.core.frame.DataFrame'>\n",
      "RangeIndex: 398912 entries, 0 to 398911\n",
      "Data columns (total 29 columns):\n",
      "HOUSEID                398912 non-null int64\n",
      "Date3                  398912 non-null datetime64[ns]\n",
      "weekday                398912 non-null object\n",
      "trade                  398912 non-null object\n",
      "channel                398912 non-null object\n",
      "STORENAME              398912 non-null object\n",
      "packs                  398912 non-null float64\n",
      "unitsperpack           398912 non-null float64\n",
      "volume                 398912 non-null float64\n",
      "spend                  398912 non-null float64\n",
      "Priceperlitre          398912 non-null float64\n",
      "Unitsizeml             398912 non-null float64\n",
      "category               398912 non-null object\n",
      "BRAND_E1               398640 non-null object\n",
      "PACKSIZE2              398912 non-null object\n",
      "packdesc               398912 non-null object\n",
      "PACKSIZE_E2            398640 non-null float64\n",
      "PACKAGE                398640 non-null object\n",
      "FLAVOUR                258546 non-null object\n",
      "FORMULA1               69920 non-null object\n",
      "FORMULA2               69920 non-null object\n",
      "SKU_DESC               398912 non-null object\n",
      "DEMOG_AREA             398912 non-null object\n",
      "DEMOG_HHINCOME         398912 non-null object\n",
      "DEMOG_HHSIZE           398912 non-null object\n",
      "DEMOG_LIFESTAGE        398912 non-null object\n",
      "DEMOG_HWAGE            398912 non-null object\n",
      "DEMOG_REGION           398912 non-null object\n",
      "DEMOG_WORKINGSTATUS    398912 non-null object\n",
      "dtypes: datetime64[ns](1), float64(7), int64(1), object(20)\n",
      "memory usage: 88.3+ MB\n"
     ]
    }
   ],
   "source": [
    "data.info()"
   ]
  },
  {
   "cell_type": "markdown",
   "metadata": {},
   "source": [
    "# It seems we can roughly separate our columns into a few categories. \n",
    "1. <font color='red'> **Buyer details** </font> (i.e. **HOUSEID, Date3, weekday**) \n",
    "2. <font color='red'> **Store details** </font> (i.e. **trade, channel, STORENAME**)\n",
    "3. <font color='red'> **Purchase Quantity and Spending details** </font>(i.e. **packs, unitsperpack, volume, spend, Priceperlitre, Unitsizeml, PACKSIZE_E2, PACKSIZE2**)\n",
    "4. <font color='red'> **Beverage details** </font>(i.e. **category, BRAND_E1, packdesc, PACKAGE, FLAVOUR, FORMULA1, FORMULA2, SKU_DESC**)\n",
    "5. <font color='red'> **Demographic of Buyer** </font> (i.e. all **DEMOG_xx**) \n",
    "\n",
    "Most of our data are categorical data, except for category 3."
   ]
  },
  {
   "cell_type": "markdown",
   "metadata": {},
   "source": [
    "# Check for Missing Values"
   ]
  },
  {
   "cell_type": "markdown",
   "metadata": {},
   "source": [
    "Check the columns where there are missing values. Keep them in mind and deal with them later."
   ]
  },
  {
   "cell_type": "code",
   "execution_count": 7,
   "metadata": {},
   "outputs": [
    {
     "data": {
      "text/html": [
       "<div>\n",
       "<style scoped>\n",
       "    .dataframe tbody tr th:only-of-type {\n",
       "        vertical-align: middle;\n",
       "    }\n",
       "\n",
       "    .dataframe tbody tr th {\n",
       "        vertical-align: top;\n",
       "    }\n",
       "\n",
       "    .dataframe thead th {\n",
       "        text-align: right;\n",
       "    }\n",
       "</style>\n",
       "<table border=\"1\" class=\"dataframe\">\n",
       "  <thead>\n",
       "    <tr style=\"text-align: right;\">\n",
       "      <th></th>\n",
       "      <th>mean</th>\n",
       "    </tr>\n",
       "  </thead>\n",
       "  <tbody>\n",
       "    <tr>\n",
       "      <td>BRAND_E1</td>\n",
       "      <td>0.000682</td>\n",
       "    </tr>\n",
       "    <tr>\n",
       "      <td>PACKSIZE_E2</td>\n",
       "      <td>0.000682</td>\n",
       "    </tr>\n",
       "    <tr>\n",
       "      <td>PACKAGE</td>\n",
       "      <td>0.000682</td>\n",
       "    </tr>\n",
       "    <tr>\n",
       "      <td>FLAVOUR</td>\n",
       "      <td>0.351872</td>\n",
       "    </tr>\n",
       "    <tr>\n",
       "      <td>FORMULA1</td>\n",
       "      <td>0.824723</td>\n",
       "    </tr>\n",
       "    <tr>\n",
       "      <td>FORMULA2</td>\n",
       "      <td>0.824723</td>\n",
       "    </tr>\n",
       "  </tbody>\n",
       "</table>\n",
       "</div>"
      ],
      "text/plain": [
       "                 mean\n",
       "BRAND_E1     0.000682\n",
       "PACKSIZE_E2  0.000682\n",
       "PACKAGE      0.000682\n",
       "FLAVOUR      0.351872\n",
       "FORMULA1     0.824723\n",
       "FORMULA2     0.824723"
      ]
     },
     "execution_count": 7,
     "metadata": {},
     "output_type": "execute_result"
    }
   ],
   "source": [
    "col_means = pd.DataFrame(data.isna().agg(func = np.mean), columns = ['mean'])\n",
    "col_means[col_means['mean'] != 0]"
   ]
  },
  {
   "cell_type": "markdown",
   "metadata": {},
   "source": [
    "# We will not check for duplicated rows\n",
    "**It is possible that a customer returns to the same store on the same day and make the exact same purchase.**"
   ]
  },
  {
   "cell_type": "markdown",
   "metadata": {},
   "source": [
    "# <font color='red'> 1. Inspect the Buyer details"
   ]
  },
  {
   "cell_type": "markdown",
   "metadata": {},
   "source": [
    "Let us rename all the columns to camel case for consistency."
   ]
  },
  {
   "cell_type": "code",
   "execution_count": 8,
   "metadata": {},
   "outputs": [],
   "source": [
    "data = data.rename(columns = {'HOUSEID' :'houseId', \n",
    "                              'Date3' : 'date'})"
   ]
  },
  {
   "cell_type": "code",
   "execution_count": 9,
   "metadata": {},
   "outputs": [
    {
     "data": {
      "text/html": [
       "<div>\n",
       "<style scoped>\n",
       "    .dataframe tbody tr th:only-of-type {\n",
       "        vertical-align: middle;\n",
       "    }\n",
       "\n",
       "    .dataframe tbody tr th {\n",
       "        vertical-align: top;\n",
       "    }\n",
       "\n",
       "    .dataframe thead th {\n",
       "        text-align: right;\n",
       "    }\n",
       "</style>\n",
       "<table border=\"1\" class=\"dataframe\">\n",
       "  <thead>\n",
       "    <tr style=\"text-align: right;\">\n",
       "      <th></th>\n",
       "      <th>houseId</th>\n",
       "      <th>date</th>\n",
       "      <th>weekday</th>\n",
       "    </tr>\n",
       "  </thead>\n",
       "  <tbody>\n",
       "    <tr>\n",
       "      <td>0</td>\n",
       "      <td>1</td>\n",
       "      <td>2016-01-03</td>\n",
       "      <td>Saturday</td>\n",
       "    </tr>\n",
       "    <tr>\n",
       "      <td>1</td>\n",
       "      <td>1</td>\n",
       "      <td>2016-01-03</td>\n",
       "      <td>Saturday</td>\n",
       "    </tr>\n",
       "    <tr>\n",
       "      <td>2</td>\n",
       "      <td>1</td>\n",
       "      <td>2016-01-03</td>\n",
       "      <td>Thursday</td>\n",
       "    </tr>\n",
       "    <tr>\n",
       "      <td>3</td>\n",
       "      <td>1</td>\n",
       "      <td>2016-01-03</td>\n",
       "      <td>Thursday</td>\n",
       "    </tr>\n",
       "    <tr>\n",
       "      <td>4</td>\n",
       "      <td>1</td>\n",
       "      <td>2016-01-24</td>\n",
       "      <td>Thursday</td>\n",
       "    </tr>\n",
       "  </tbody>\n",
       "</table>\n",
       "</div>"
      ],
      "text/plain": [
       "   houseId       date   weekday\n",
       "0        1 2016-01-03  Saturday\n",
       "1        1 2016-01-03  Saturday\n",
       "2        1 2016-01-03  Thursday\n",
       "3        1 2016-01-03  Thursday\n",
       "4        1 2016-01-24  Thursday"
      ]
     },
     "execution_count": 9,
     "metadata": {},
     "output_type": "execute_result"
    }
   ],
   "source": [
    "data[['houseId', 'date', 'weekday']].head()"
   ]
  },
  {
   "cell_type": "markdown",
   "metadata": {},
   "source": [
    "Recall that there are no missing values for this category. Thus, we will simply look at the columns to get a general idea of the dataset.\n",
    "\n",
    "Look at **houseId**."
   ]
  },
  {
   "cell_type": "code",
   "execution_count": 10,
   "metadata": {},
   "outputs": [
    {
     "name": "stdout",
     "output_type": "stream",
     "text": [
      "5409\n",
      "1\n",
      "5409\n"
     ]
    }
   ],
   "source": [
    "print(len(np.unique(data['houseId'])))\n",
    "print(min(np.unique(data['houseId'])))\n",
    "print(max(np.unique(data['houseId'])))"
   ]
  },
  {
   "cell_type": "markdown",
   "metadata": {},
   "source": [
    "There are 5409 unique customers. And since the **houseId** starts at 1 and ends at 5409, we know that each customer has an **houseId** between 1 and 5409, and all integer from 1 to 5409 represents a **houseId**.\n",
    "\n",
    "Next, look at **date**."
   ]
  },
  {
   "cell_type": "code",
   "execution_count": 11,
   "metadata": {},
   "outputs": [
    {
     "data": {
      "text/plain": [
       "array(['2015-11-15T00:00:00.000000000', '2015-11-22T00:00:00.000000000',\n",
       "       '2015-11-29T00:00:00.000000000', '2015-12-06T00:00:00.000000000',\n",
       "       '2015-12-13T00:00:00.000000000', '2015-12-20T00:00:00.000000000',\n",
       "       '2015-12-27T00:00:00.000000000', '2016-01-03T00:00:00.000000000',\n",
       "       '2016-01-10T00:00:00.000000000', '2016-01-17T00:00:00.000000000'],\n",
       "      dtype='datetime64[ns]')"
      ]
     },
     "execution_count": 11,
     "metadata": {},
     "output_type": "execute_result"
    }
   ],
   "source": [
    "np.unique(data['date'])[0:10]"
   ]
  },
  {
   "cell_type": "code",
   "execution_count": 12,
   "metadata": {},
   "outputs": [
    {
     "data": {
      "text/plain": [
       "6    398912\n",
       "Name: date, dtype: int64"
      ]
     },
     "execution_count": 12,
     "metadata": {},
     "output_type": "execute_result"
    }
   ],
   "source": [
    "data['date'].dt.dayofweek.value_counts()"
   ]
  },
  {
   "cell_type": "markdown",
   "metadata": {},
   "source": [
    "It seems that all the dates are Sundays. It is likely that the purchase details are entered into the system on Sundays, and thus **date** represents the date the data is entered, but not the date the purchases are made.\n",
    "\n",
    "Let's check that the **weekday** column is right."
   ]
  },
  {
   "cell_type": "code",
   "execution_count": 13,
   "metadata": {},
   "outputs": [
    {
     "data": {
      "text/plain": [
       "Sunday       60432\n",
       "Monday       60169\n",
       "Saturday     58277\n",
       "Tuesday      56487\n",
       "Wednesday    56264\n",
       "Friday       53793\n",
       "Thursday     53490\n",
       "Name: weekday, dtype: int64"
      ]
     },
     "execution_count": 13,
     "metadata": {},
     "output_type": "execute_result"
    }
   ],
   "source": [
    "data['weekday'].value_counts()"
   ]
  },
  {
   "cell_type": "markdown",
   "metadata": {},
   "source": [
    "Yes, there are only the 7 days of the week in this column. We can use this column to help us correctly record the date of the purchases."
   ]
  },
  {
   "cell_type": "code",
   "execution_count": 14,
   "metadata": {},
   "outputs": [],
   "source": [
    "offset = np.zeros(len(np.array(data['weekday'])))\n",
    "\n",
    "for i, day in enumerate(np.array(data['weekday'])):\n",
    "    if (day == \"Saturday\"):\n",
    "        offset[i] = 1\n",
    "    elif (day == \"Friday\"):\n",
    "        offset[i] = 2\n",
    "    elif (day == \"Thursday\"):\n",
    "        offset[i] = 3\n",
    "    elif (day == \"Wednesday\"):\n",
    "        offset[i] = 4\n",
    "    elif (day == \"Tuesday\"):\n",
    "        offset[i] = 5\n",
    "    elif (day == \"Monday\"):\n",
    "        offset[i] = 6\n",
    "        \n",
    "date = np.zeros((len(np.array(data['weekday']))), dtype='datetime64[s]')\n",
    "for i in range(len(data['date'])):\n",
    "    date[i] = data['date'][i] - pd.DateOffset(offset[i])"
   ]
  },
  {
   "cell_type": "markdown",
   "metadata": {},
   "source": [
    "Insert this date of purchase into the dataframe, and rename the original date column."
   ]
  },
  {
   "cell_type": "code",
   "execution_count": 15,
   "metadata": {},
   "outputs": [
    {
     "data": {
      "text/html": [
       "<div>\n",
       "<style scoped>\n",
       "    .dataframe tbody tr th:only-of-type {\n",
       "        vertical-align: middle;\n",
       "    }\n",
       "\n",
       "    .dataframe tbody tr th {\n",
       "        vertical-align: top;\n",
       "    }\n",
       "\n",
       "    .dataframe thead th {\n",
       "        text-align: right;\n",
       "    }\n",
       "</style>\n",
       "<table border=\"1\" class=\"dataframe\">\n",
       "  <thead>\n",
       "    <tr style=\"text-align: right;\">\n",
       "      <th></th>\n",
       "      <th>houseId</th>\n",
       "      <th>dateRecorded</th>\n",
       "      <th>datePurchase</th>\n",
       "      <th>weekday</th>\n",
       "      <th>trade</th>\n",
       "      <th>channel</th>\n",
       "      <th>STORENAME</th>\n",
       "      <th>packs</th>\n",
       "      <th>unitsperpack</th>\n",
       "      <th>volume</th>\n",
       "      <th>...</th>\n",
       "      <th>FORMULA1</th>\n",
       "      <th>FORMULA2</th>\n",
       "      <th>SKU_DESC</th>\n",
       "      <th>DEMOG_AREA</th>\n",
       "      <th>DEMOG_HHINCOME</th>\n",
       "      <th>DEMOG_HHSIZE</th>\n",
       "      <th>DEMOG_LIFESTAGE</th>\n",
       "      <th>DEMOG_HWAGE</th>\n",
       "      <th>DEMOG_REGION</th>\n",
       "      <th>DEMOG_WORKINGSTATUS</th>\n",
       "    </tr>\n",
       "  </thead>\n",
       "  <tbody>\n",
       "    <tr>\n",
       "      <td>0</td>\n",
       "      <td>1</td>\n",
       "      <td>2016-01-03</td>\n",
       "      <td>2016-01-02</td>\n",
       "      <td>Saturday</td>\n",
       "      <td>Modern Trade</td>\n",
       "      <td>Hypermarkets</td>\n",
       "      <td>Makro</td>\n",
       "      <td>1.0</td>\n",
       "      <td>6.0</td>\n",
       "      <td>1.9</td>\n",
       "      <td>...</td>\n",
       "      <td>NaN</td>\n",
       "      <td>NaN</td>\n",
       "      <td>RTD TEA YEN YEN BY ICHITAN 316.6ML X6 COOL HER...</td>\n",
       "      <td>Greater Bangkok</td>\n",
       "      <td>Urban &gt;40000</td>\n",
       "      <td>3-4 Member HH</td>\n",
       "      <td>Mixed Adults Families</td>\n",
       "      <td>HWife age 50+</td>\n",
       "      <td>Greater Bangkok</td>\n",
       "      <td>Working</td>\n",
       "    </tr>\n",
       "    <tr>\n",
       "      <td>1</td>\n",
       "      <td>1</td>\n",
       "      <td>2016-01-03</td>\n",
       "      <td>2016-01-02</td>\n",
       "      <td>Saturday</td>\n",
       "      <td>Modern Trade</td>\n",
       "      <td>Hypermarkets</td>\n",
       "      <td>Makro</td>\n",
       "      <td>1.0</td>\n",
       "      <td>24.0</td>\n",
       "      <td>9.6</td>\n",
       "      <td>...</td>\n",
       "      <td>NaN</td>\n",
       "      <td>NaN</td>\n",
       "      <td>RTD TEA YEN JAB JAI 400ML X24 JUBLIANG HERBAL ...</td>\n",
       "      <td>Greater Bangkok</td>\n",
       "      <td>Urban &gt;40000</td>\n",
       "      <td>3-4 Member HH</td>\n",
       "      <td>Mixed Adults Families</td>\n",
       "      <td>HWife age 50+</td>\n",
       "      <td>Greater Bangkok</td>\n",
       "      <td>Working</td>\n",
       "    </tr>\n",
       "    <tr>\n",
       "      <td>2</td>\n",
       "      <td>1</td>\n",
       "      <td>2016-01-03</td>\n",
       "      <td>2015-12-31</td>\n",
       "      <td>Thursday</td>\n",
       "      <td>Modern Trade</td>\n",
       "      <td>Hypermarkets</td>\n",
       "      <td>Big C</td>\n",
       "      <td>1.0</td>\n",
       "      <td>12.0</td>\n",
       "      <td>12.0</td>\n",
       "      <td>...</td>\n",
       "      <td>NaN</td>\n",
       "      <td>NaN</td>\n",
       "      <td>CSD PEPSI 1000ML X12 COLA PLASTIC BOTTLE</td>\n",
       "      <td>Greater Bangkok</td>\n",
       "      <td>Urban &gt;40000</td>\n",
       "      <td>3-4 Member HH</td>\n",
       "      <td>Mixed Adults Families</td>\n",
       "      <td>HWife age 50+</td>\n",
       "      <td>Greater Bangkok</td>\n",
       "      <td>Working</td>\n",
       "    </tr>\n",
       "    <tr>\n",
       "      <td>3</td>\n",
       "      <td>1</td>\n",
       "      <td>2016-01-03</td>\n",
       "      <td>2015-12-31</td>\n",
       "      <td>Thursday</td>\n",
       "      <td>Modern Trade</td>\n",
       "      <td>Hypermarkets</td>\n",
       "      <td>Big C</td>\n",
       "      <td>1.0</td>\n",
       "      <td>1.0</td>\n",
       "      <td>1.3</td>\n",
       "      <td>...</td>\n",
       "      <td>NaN</td>\n",
       "      <td>NaN</td>\n",
       "      <td>CSD FANTA 1300ML STRAWBERRY PLASTIC BOTTLE</td>\n",
       "      <td>Greater Bangkok</td>\n",
       "      <td>Urban &gt;40000</td>\n",
       "      <td>3-4 Member HH</td>\n",
       "      <td>Mixed Adults Families</td>\n",
       "      <td>HWife age 50+</td>\n",
       "      <td>Greater Bangkok</td>\n",
       "      <td>Working</td>\n",
       "    </tr>\n",
       "    <tr>\n",
       "      <td>4</td>\n",
       "      <td>1</td>\n",
       "      <td>2016-01-24</td>\n",
       "      <td>2016-01-21</td>\n",
       "      <td>Thursday</td>\n",
       "      <td>Modern Trade</td>\n",
       "      <td>Hypermarkets</td>\n",
       "      <td>Big C</td>\n",
       "      <td>1.0</td>\n",
       "      <td>1.0</td>\n",
       "      <td>1.0</td>\n",
       "      <td>...</td>\n",
       "      <td>NaN</td>\n",
       "      <td>NaN</td>\n",
       "      <td>RTD TEA LIPTON 1000ML LEMON ICE TEA BOTTLE PLA...</td>\n",
       "      <td>Greater Bangkok</td>\n",
       "      <td>Urban &gt;40000</td>\n",
       "      <td>3-4 Member HH</td>\n",
       "      <td>Mixed Adults Families</td>\n",
       "      <td>HWife age 50+</td>\n",
       "      <td>Greater Bangkok</td>\n",
       "      <td>Working</td>\n",
       "    </tr>\n",
       "  </tbody>\n",
       "</table>\n",
       "<p>5 rows × 30 columns</p>\n",
       "</div>"
      ],
      "text/plain": [
       "   houseId dateRecorded datePurchase   weekday         trade       channel  \\\n",
       "0        1   2016-01-03   2016-01-02  Saturday  Modern Trade  Hypermarkets   \n",
       "1        1   2016-01-03   2016-01-02  Saturday  Modern Trade  Hypermarkets   \n",
       "2        1   2016-01-03   2015-12-31  Thursday  Modern Trade  Hypermarkets   \n",
       "3        1   2016-01-03   2015-12-31  Thursday  Modern Trade  Hypermarkets   \n",
       "4        1   2016-01-24   2016-01-21  Thursday  Modern Trade  Hypermarkets   \n",
       "\n",
       "  STORENAME  packs  unitsperpack  volume  ...  FORMULA1  FORMULA2  \\\n",
       "0     Makro    1.0           6.0     1.9  ...       NaN       NaN   \n",
       "1     Makro    1.0          24.0     9.6  ...       NaN       NaN   \n",
       "2     Big C    1.0          12.0    12.0  ...       NaN       NaN   \n",
       "3     Big C    1.0           1.0     1.3  ...       NaN       NaN   \n",
       "4     Big C    1.0           1.0     1.0  ...       NaN       NaN   \n",
       "\n",
       "                                            SKU_DESC       DEMOG_AREA  \\\n",
       "0  RTD TEA YEN YEN BY ICHITAN 316.6ML X6 COOL HER...  Greater Bangkok   \n",
       "1  RTD TEA YEN JAB JAI 400ML X24 JUBLIANG HERBAL ...  Greater Bangkok   \n",
       "2           CSD PEPSI 1000ML X12 COLA PLASTIC BOTTLE  Greater Bangkok   \n",
       "3         CSD FANTA 1300ML STRAWBERRY PLASTIC BOTTLE  Greater Bangkok   \n",
       "4  RTD TEA LIPTON 1000ML LEMON ICE TEA BOTTLE PLA...  Greater Bangkok   \n",
       "\n",
       "  DEMOG_HHINCOME   DEMOG_HHSIZE        DEMOG_LIFESTAGE    DEMOG_HWAGE  \\\n",
       "0   Urban >40000  3-4 Member HH  Mixed Adults Families  HWife age 50+   \n",
       "1   Urban >40000  3-4 Member HH  Mixed Adults Families  HWife age 50+   \n",
       "2   Urban >40000  3-4 Member HH  Mixed Adults Families  HWife age 50+   \n",
       "3   Urban >40000  3-4 Member HH  Mixed Adults Families  HWife age 50+   \n",
       "4   Urban >40000  3-4 Member HH  Mixed Adults Families  HWife age 50+   \n",
       "\n",
       "      DEMOG_REGION DEMOG_WORKINGSTATUS  \n",
       "0  Greater Bangkok             Working  \n",
       "1  Greater Bangkok             Working  \n",
       "2  Greater Bangkok             Working  \n",
       "3  Greater Bangkok             Working  \n",
       "4  Greater Bangkok             Working  \n",
       "\n",
       "[5 rows x 30 columns]"
      ]
     },
     "execution_count": 15,
     "metadata": {},
     "output_type": "execute_result"
    }
   ],
   "source": [
    "data.insert(2, 'datePurchase', date)\n",
    "data = data.rename(columns = {'date' : 'dateRecorded'})\n",
    "data.head()"
   ]
  },
  {
   "cell_type": "markdown",
   "metadata": {},
   "source": [
    "We are all good for the first category of columns. Now, let's inspect the store details."
   ]
  },
  {
   "cell_type": "markdown",
   "metadata": {},
   "source": [
    "# <font color='red'> 2. Inspect the Store details"
   ]
  },
  {
   "cell_type": "markdown",
   "metadata": {},
   "source": [
    "Rename all the columns to camel case for consistency."
   ]
  },
  {
   "cell_type": "code",
   "execution_count": 16,
   "metadata": {},
   "outputs": [],
   "source": [
    "data = data.rename(columns = {'STORENAME' : 'storeName'})"
   ]
  },
  {
   "cell_type": "code",
   "execution_count": 17,
   "metadata": {},
   "outputs": [
    {
     "data": {
      "text/html": [
       "<div>\n",
       "<style scoped>\n",
       "    .dataframe tbody tr th:only-of-type {\n",
       "        vertical-align: middle;\n",
       "    }\n",
       "\n",
       "    .dataframe tbody tr th {\n",
       "        vertical-align: top;\n",
       "    }\n",
       "\n",
       "    .dataframe thead th {\n",
       "        text-align: right;\n",
       "    }\n",
       "</style>\n",
       "<table border=\"1\" class=\"dataframe\">\n",
       "  <thead>\n",
       "    <tr style=\"text-align: right;\">\n",
       "      <th></th>\n",
       "      <th>trade</th>\n",
       "      <th>channel</th>\n",
       "      <th>storeName</th>\n",
       "    </tr>\n",
       "  </thead>\n",
       "  <tbody>\n",
       "    <tr>\n",
       "      <td>0</td>\n",
       "      <td>Modern Trade</td>\n",
       "      <td>Hypermarkets</td>\n",
       "      <td>Makro</td>\n",
       "    </tr>\n",
       "    <tr>\n",
       "      <td>1</td>\n",
       "      <td>Modern Trade</td>\n",
       "      <td>Hypermarkets</td>\n",
       "      <td>Makro</td>\n",
       "    </tr>\n",
       "    <tr>\n",
       "      <td>2</td>\n",
       "      <td>Modern Trade</td>\n",
       "      <td>Hypermarkets</td>\n",
       "      <td>Big C</td>\n",
       "    </tr>\n",
       "    <tr>\n",
       "      <td>3</td>\n",
       "      <td>Modern Trade</td>\n",
       "      <td>Hypermarkets</td>\n",
       "      <td>Big C</td>\n",
       "    </tr>\n",
       "    <tr>\n",
       "      <td>4</td>\n",
       "      <td>Modern Trade</td>\n",
       "      <td>Hypermarkets</td>\n",
       "      <td>Big C</td>\n",
       "    </tr>\n",
       "  </tbody>\n",
       "</table>\n",
       "</div>"
      ],
      "text/plain": [
       "          trade       channel storeName\n",
       "0  Modern Trade  Hypermarkets     Makro\n",
       "1  Modern Trade  Hypermarkets     Makro\n",
       "2  Modern Trade  Hypermarkets     Big C\n",
       "3  Modern Trade  Hypermarkets     Big C\n",
       "4  Modern Trade  Hypermarkets     Big C"
      ]
     },
     "execution_count": 17,
     "metadata": {},
     "output_type": "execute_result"
    }
   ],
   "source": [
    "data[['trade', 'channel', 'storeName']].head()"
   ]
  },
  {
   "cell_type": "markdown",
   "metadata": {},
   "source": [
    "Let us look at the type of categories there are in **trade** and **channel**."
   ]
  },
  {
   "cell_type": "code",
   "execution_count": 18,
   "metadata": {},
   "outputs": [
    {
     "data": {
      "text/plain": [
       "Traditional Trade    181240\n",
       "Modern Trade         146075\n",
       "Others                71597\n",
       "Name: trade, dtype: int64"
      ]
     },
     "execution_count": 18,
     "metadata": {},
     "output_type": "execute_result"
    }
   ],
   "source": [
    "data['trade'].value_counts()"
   ]
  },
  {
   "cell_type": "code",
   "execution_count": 19,
   "metadata": {},
   "outputs": [
    {
     "data": {
      "text/plain": [
       "Provision St      181240\n",
       "Convenience St     91659\n",
       "Direct Sales       47843\n",
       "Hypermarkets       37110\n",
       "Others             23754\n",
       "Supermarkets       17306\n",
       "Name: channel, dtype: int64"
      ]
     },
     "execution_count": 19,
     "metadata": {},
     "output_type": "execute_result"
    }
   ],
   "source": [
    "data['channel'].value_counts()"
   ]
  },
  {
   "cell_type": "markdown",
   "metadata": {},
   "source": [
    "**trade** is likely to be a more general category as compared to **channel**, in describing a store. \n",
    "\n",
    "Let us look at the type of **channel** there are in each of the 3 categories of **trade**."
   ]
  },
  {
   "cell_type": "code",
   "execution_count": 20,
   "metadata": {},
   "outputs": [
    {
     "data": {
      "text/plain": [
       "Provision St    181240\n",
       "Name: channel, dtype: int64"
      ]
     },
     "execution_count": 20,
     "metadata": {},
     "output_type": "execute_result"
    }
   ],
   "source": [
    "data[data['trade'] == 'Traditional Trade']['channel'].value_counts()"
   ]
  },
  {
   "cell_type": "code",
   "execution_count": 21,
   "metadata": {},
   "outputs": [
    {
     "data": {
      "text/plain": [
       "Convenience St    91659\n",
       "Hypermarkets      37110\n",
       "Supermarkets      17306\n",
       "Name: channel, dtype: int64"
      ]
     },
     "execution_count": 21,
     "metadata": {},
     "output_type": "execute_result"
    }
   ],
   "source": [
    "data[data['trade'] == 'Modern Trade']['channel'].value_counts()"
   ]
  },
  {
   "cell_type": "code",
   "execution_count": 22,
   "metadata": {},
   "outputs": [
    {
     "data": {
      "text/plain": [
       "Direct Sales    47843\n",
       "Others          23754\n",
       "Name: channel, dtype: int64"
      ]
     },
     "execution_count": 22,
     "metadata": {},
     "output_type": "execute_result"
    }
   ],
   "source": [
    "data[data['trade'] == 'Others']['channel'].value_counts()"
   ]
  },
  {
   "cell_type": "markdown",
   "metadata": {},
   "source": [
    "The results are logical and already cleaned. We will retain the **trade** column for possible usage in the data visualisation later on, even though the column does not provide much additional information.\n",
    "\n",
    "Inspect **storeName**."
   ]
  },
  {
   "cell_type": "code",
   "execution_count": 23,
   "metadata": {},
   "outputs": [
    {
     "data": {
      "text/plain": [
       "Provision store          181240\n",
       "7-Eleven                  63806\n",
       "Drinking water agency     45841\n",
       "Tesco Lotus               19286\n",
       "Tesco lotus express       12687\n",
       "                          ...  \n",
       "TPI mart                      1\n",
       "Central                       1\n",
       "First super                   1\n",
       "Thathong                      1\n",
       "Tiger mart (Esso)             1\n",
       "Name: storeName, Length: 261, dtype: int64"
      ]
     },
     "execution_count": 23,
     "metadata": {},
     "output_type": "execute_result"
    }
   ],
   "source": [
    "data['storeName'].value_counts()"
   ]
  },
  {
   "cell_type": "markdown",
   "metadata": {},
   "source": [
    "At the top, we can see that there are many beverages purchases made at provision stores. We also have big chains of convenience stores/hypermarkets, having many beverages purchases.\n",
    "\n",
    "Let us check if all provision stores do not have a **storeName** recorded."
   ]
  },
  {
   "cell_type": "code",
   "execution_count": 24,
   "metadata": {},
   "outputs": [
    {
     "data": {
      "text/plain": [
       "Provision store    181240\n",
       "Name: storeName, dtype: int64"
      ]
     },
     "execution_count": 24,
     "metadata": {},
     "output_type": "execute_result"
    }
   ],
   "source": [
    "data[data['channel'] == 'Provision St']['storeName'].value_counts()"
   ]
  },
  {
   "cell_type": "markdown",
   "metadata": {},
   "source": [
    "Indeed, all the provision stores (~50% rows of the dataset) do not have unique **storeName**s."
   ]
  },
  {
   "cell_type": "markdown",
   "metadata": {},
   "source": [
    "# <font color='red'> 3. Inspect the Purchase quantities and spending details"
   ]
  },
  {
   "cell_type": "code",
   "execution_count": 25,
   "metadata": {
    "scrolled": true
   },
   "outputs": [
    {
     "data": {
      "text/html": [
       "<div>\n",
       "<style scoped>\n",
       "    .dataframe tbody tr th:only-of-type {\n",
       "        vertical-align: middle;\n",
       "    }\n",
       "\n",
       "    .dataframe tbody tr th {\n",
       "        vertical-align: top;\n",
       "    }\n",
       "\n",
       "    .dataframe thead th {\n",
       "        text-align: right;\n",
       "    }\n",
       "</style>\n",
       "<table border=\"1\" class=\"dataframe\">\n",
       "  <thead>\n",
       "    <tr style=\"text-align: right;\">\n",
       "      <th></th>\n",
       "      <th>packs</th>\n",
       "      <th>unitsperpack</th>\n",
       "      <th>volume</th>\n",
       "      <th>spend</th>\n",
       "      <th>Priceperlitre</th>\n",
       "      <th>Unitsizeml</th>\n",
       "      <th>PACKSIZE2</th>\n",
       "      <th>PACKSIZE_E2</th>\n",
       "    </tr>\n",
       "  </thead>\n",
       "  <tbody>\n",
       "    <tr>\n",
       "      <td>0</td>\n",
       "      <td>1.0</td>\n",
       "      <td>6.0</td>\n",
       "      <td>1.9</td>\n",
       "      <td>45.0</td>\n",
       "      <td>23.684211</td>\n",
       "      <td>316.666667</td>\n",
       "      <td>316.6ML X6</td>\n",
       "      <td>1890.0</td>\n",
       "    </tr>\n",
       "    <tr>\n",
       "      <td>1</td>\n",
       "      <td>1.0</td>\n",
       "      <td>24.0</td>\n",
       "      <td>9.6</td>\n",
       "      <td>175.0</td>\n",
       "      <td>18.229167</td>\n",
       "      <td>400.000000</td>\n",
       "      <td>400ML X24</td>\n",
       "      <td>9600.0</td>\n",
       "    </tr>\n",
       "    <tr>\n",
       "      <td>2</td>\n",
       "      <td>1.0</td>\n",
       "      <td>12.0</td>\n",
       "      <td>12.0</td>\n",
       "      <td>230.0</td>\n",
       "      <td>19.166667</td>\n",
       "      <td>1000.000000</td>\n",
       "      <td>1000ML X12</td>\n",
       "      <td>12000.0</td>\n",
       "    </tr>\n",
       "    <tr>\n",
       "      <td>3</td>\n",
       "      <td>1.0</td>\n",
       "      <td>1.0</td>\n",
       "      <td>1.3</td>\n",
       "      <td>21.0</td>\n",
       "      <td>16.153846</td>\n",
       "      <td>1300.000000</td>\n",
       "      <td>1300ML</td>\n",
       "      <td>1250.0</td>\n",
       "    </tr>\n",
       "    <tr>\n",
       "      <td>4</td>\n",
       "      <td>1.0</td>\n",
       "      <td>1.0</td>\n",
       "      <td>1.0</td>\n",
       "      <td>31.0</td>\n",
       "      <td>31.000000</td>\n",
       "      <td>1000.000000</td>\n",
       "      <td>1000ML</td>\n",
       "      <td>1000.0</td>\n",
       "    </tr>\n",
       "  </tbody>\n",
       "</table>\n",
       "</div>"
      ],
      "text/plain": [
       "   packs  unitsperpack  volume  spend  Priceperlitre   Unitsizeml   PACKSIZE2  \\\n",
       "0    1.0           6.0     1.9   45.0      23.684211   316.666667  316.6ML X6   \n",
       "1    1.0          24.0     9.6  175.0      18.229167   400.000000   400ML X24   \n",
       "2    1.0          12.0    12.0  230.0      19.166667  1000.000000  1000ML X12   \n",
       "3    1.0           1.0     1.3   21.0      16.153846  1300.000000      1300ML   \n",
       "4    1.0           1.0     1.0   31.0      31.000000  1000.000000      1000ML   \n",
       "\n",
       "   PACKSIZE_E2  \n",
       "0       1890.0  \n",
       "1       9600.0  \n",
       "2      12000.0  \n",
       "3       1250.0  \n",
       "4       1000.0  "
      ]
     },
     "execution_count": 25,
     "metadata": {},
     "output_type": "execute_result"
    }
   ],
   "source": [
    "data[['packs', 'unitsperpack', 'volume', 'spend', 'Priceperlitre', 'Unitsizeml', 'PACKSIZE2', 'PACKSIZE_E2']].head()"
   ]
  },
  {
   "cell_type": "markdown",
   "metadata": {},
   "source": [
    "We see that **PACKSIZE2** and **PACKSIZE_E2** does not introduce new information, since we already have **unitsperpack** and **volume**. Furthermore, there are missing values in **PACKSIZE_E2**. \n",
    "\n",
    "Thus, we will just drop these 2 columns altogether."
   ]
  },
  {
   "cell_type": "code",
   "execution_count": 26,
   "metadata": {},
   "outputs": [],
   "source": [
    "data = data.drop(labels = ['PACKSIZE2', 'PACKSIZE_E2'], axis = 1)"
   ]
  },
  {
   "cell_type": "code",
   "execution_count": 27,
   "metadata": {},
   "outputs": [
    {
     "data": {
      "text/html": [
       "<div>\n",
       "<style scoped>\n",
       "    .dataframe tbody tr th:only-of-type {\n",
       "        vertical-align: middle;\n",
       "    }\n",
       "\n",
       "    .dataframe tbody tr th {\n",
       "        vertical-align: top;\n",
       "    }\n",
       "\n",
       "    .dataframe thead th {\n",
       "        text-align: right;\n",
       "    }\n",
       "</style>\n",
       "<table border=\"1\" class=\"dataframe\">\n",
       "  <thead>\n",
       "    <tr style=\"text-align: right;\">\n",
       "      <th></th>\n",
       "      <th>packs</th>\n",
       "      <th>unitsperpack</th>\n",
       "      <th>volume</th>\n",
       "      <th>spend</th>\n",
       "      <th>Priceperlitre</th>\n",
       "      <th>Unitsizeml</th>\n",
       "    </tr>\n",
       "  </thead>\n",
       "  <tbody>\n",
       "    <tr>\n",
       "      <td>0</td>\n",
       "      <td>1.0</td>\n",
       "      <td>6.0</td>\n",
       "      <td>1.9</td>\n",
       "      <td>45.0</td>\n",
       "      <td>23.684211</td>\n",
       "      <td>316.666667</td>\n",
       "    </tr>\n",
       "    <tr>\n",
       "      <td>1</td>\n",
       "      <td>1.0</td>\n",
       "      <td>24.0</td>\n",
       "      <td>9.6</td>\n",
       "      <td>175.0</td>\n",
       "      <td>18.229167</td>\n",
       "      <td>400.000000</td>\n",
       "    </tr>\n",
       "    <tr>\n",
       "      <td>2</td>\n",
       "      <td>1.0</td>\n",
       "      <td>12.0</td>\n",
       "      <td>12.0</td>\n",
       "      <td>230.0</td>\n",
       "      <td>19.166667</td>\n",
       "      <td>1000.000000</td>\n",
       "    </tr>\n",
       "    <tr>\n",
       "      <td>3</td>\n",
       "      <td>1.0</td>\n",
       "      <td>1.0</td>\n",
       "      <td>1.3</td>\n",
       "      <td>21.0</td>\n",
       "      <td>16.153846</td>\n",
       "      <td>1300.000000</td>\n",
       "    </tr>\n",
       "    <tr>\n",
       "      <td>4</td>\n",
       "      <td>1.0</td>\n",
       "      <td>1.0</td>\n",
       "      <td>1.0</td>\n",
       "      <td>31.0</td>\n",
       "      <td>31.000000</td>\n",
       "      <td>1000.000000</td>\n",
       "    </tr>\n",
       "  </tbody>\n",
       "</table>\n",
       "</div>"
      ],
      "text/plain": [
       "   packs  unitsperpack  volume  spend  Priceperlitre   Unitsizeml\n",
       "0    1.0           6.0     1.9   45.0      23.684211   316.666667\n",
       "1    1.0          24.0     9.6  175.0      18.229167   400.000000\n",
       "2    1.0          12.0    12.0  230.0      19.166667  1000.000000\n",
       "3    1.0           1.0     1.3   21.0      16.153846  1300.000000\n",
       "4    1.0           1.0     1.0   31.0      31.000000  1000.000000"
      ]
     },
     "execution_count": 27,
     "metadata": {},
     "output_type": "execute_result"
    }
   ],
   "source": [
    "data[['packs', 'unitsperpack', 'volume', 'spend', 'Priceperlitre', 'Unitsizeml']].head()"
   ]
  },
  {
   "cell_type": "markdown",
   "metadata": {},
   "source": [
    "These 6 columns are clearly related, but the naming convention can be confusing. Also, the scale is different (some in millilitres and some in litres)"
   ]
  },
  {
   "cell_type": "code",
   "execution_count": 28,
   "metadata": {},
   "outputs": [
    {
     "data": {
      "text/html": [
       "<div>\n",
       "<style scoped>\n",
       "    .dataframe tbody tr th:only-of-type {\n",
       "        vertical-align: middle;\n",
       "    }\n",
       "\n",
       "    .dataframe tbody tr th {\n",
       "        vertical-align: top;\n",
       "    }\n",
       "\n",
       "    .dataframe thead th {\n",
       "        text-align: right;\n",
       "    }\n",
       "</style>\n",
       "<table border=\"1\" class=\"dataframe\">\n",
       "  <thead>\n",
       "    <tr style=\"text-align: right;\">\n",
       "      <th></th>\n",
       "      <th>packs</th>\n",
       "      <th>unitsPerPack</th>\n",
       "      <th>litresPerUnit</th>\n",
       "      <th>pricePerLitre</th>\n",
       "      <th>litres</th>\n",
       "      <th>spend</th>\n",
       "    </tr>\n",
       "  </thead>\n",
       "  <tbody>\n",
       "    <tr>\n",
       "      <td>0</td>\n",
       "      <td>1.0</td>\n",
       "      <td>6.0</td>\n",
       "      <td>0.316667</td>\n",
       "      <td>23.684211</td>\n",
       "      <td>1.9</td>\n",
       "      <td>45.0</td>\n",
       "    </tr>\n",
       "    <tr>\n",
       "      <td>1</td>\n",
       "      <td>1.0</td>\n",
       "      <td>24.0</td>\n",
       "      <td>0.400000</td>\n",
       "      <td>18.229167</td>\n",
       "      <td>9.6</td>\n",
       "      <td>175.0</td>\n",
       "    </tr>\n",
       "    <tr>\n",
       "      <td>2</td>\n",
       "      <td>1.0</td>\n",
       "      <td>12.0</td>\n",
       "      <td>1.000000</td>\n",
       "      <td>19.166667</td>\n",
       "      <td>12.0</td>\n",
       "      <td>230.0</td>\n",
       "    </tr>\n",
       "    <tr>\n",
       "      <td>3</td>\n",
       "      <td>1.0</td>\n",
       "      <td>1.0</td>\n",
       "      <td>1.300000</td>\n",
       "      <td>16.153846</td>\n",
       "      <td>1.3</td>\n",
       "      <td>21.0</td>\n",
       "    </tr>\n",
       "    <tr>\n",
       "      <td>4</td>\n",
       "      <td>1.0</td>\n",
       "      <td>1.0</td>\n",
       "      <td>1.000000</td>\n",
       "      <td>31.000000</td>\n",
       "      <td>1.0</td>\n",
       "      <td>31.0</td>\n",
       "    </tr>\n",
       "  </tbody>\n",
       "</table>\n",
       "</div>"
      ],
      "text/plain": [
       "   packs  unitsPerPack  litresPerUnit  pricePerLitre  litres  spend\n",
       "0    1.0           6.0       0.316667      23.684211     1.9   45.0\n",
       "1    1.0          24.0       0.400000      18.229167     9.6  175.0\n",
       "2    1.0          12.0       1.000000      19.166667    12.0  230.0\n",
       "3    1.0           1.0       1.300000      16.153846     1.3   21.0\n",
       "4    1.0           1.0       1.000000      31.000000     1.0   31.0"
      ]
     },
     "execution_count": 28,
     "metadata": {},
     "output_type": "execute_result"
    }
   ],
   "source": [
    "# To convert Unitsizeml to scale of Litres, and change the naming\n",
    "loc = int(np.where(data.columns == 'unitsperpack')[0][0]) + 1\n",
    "data.insert(loc, 'litresPerUnit', data['Unitsizeml'] / 1000)\n",
    "data = data.drop(['Unitsizeml'], axis = 1)\n",
    "\n",
    "# Rename volume to litres and unitsperpack to unitsPerPack\n",
    "data = data.rename(columns = {'volume' : 'litres', 'unitsperpack' : 'unitsPerPack'})\n",
    "\n",
    "# Move position of Priceperlitre and lowercase\n",
    "loc = int(np.where(data.columns == 'litresPerUnit')[0][0]) + 1\n",
    "data.insert(loc, 'pricePerLitre',  data['Priceperlitre'])\n",
    "data = data.drop(['Priceperlitre'], axis = 1)\n",
    "\n",
    "data[['packs', 'unitsPerPack', 'litresPerUnit', 'pricePerLitre', 'litres', 'spend']].head()"
   ]
  },
  {
   "cell_type": "markdown",
   "metadata": {},
   "source": [
    "Now, the columns are arranged in a proper fashion. \n",
    "\n",
    "To obtain **litres**, we can do **packs** * **unitsPerPack** * **litresPerUnit**. \n",
    "\n",
    "To obtain **spend**, we can do **packs** * **unitsPerPack** * **litresPerUnit** * **pricePerLitre**.\n",
    "\n",
    "We keep both columns **litres** and **spend** even when they do not provide additional information, for convenience sake."
   ]
  },
  {
   "cell_type": "markdown",
   "metadata": {},
   "source": [
    "**packs** and **unitsPerPack** should be integers. Check if there are rows where the values are not integers."
   ]
  },
  {
   "cell_type": "code",
   "execution_count": 29,
   "metadata": {},
   "outputs": [
    {
     "name": "stdout",
     "output_type": "stream",
     "text": [
      "(array([], dtype=int64),)\n",
      "(array([210959, 212784, 314320], dtype=int64),)\n"
     ]
    }
   ],
   "source": [
    "print(np.where((data['packs'] % data['packs'].astype(int)) != 0))\n",
    "print(np.where((data['unitsPerPack'] % data['unitsPerPack'].astype(int)) != 0))"
   ]
  },
  {
   "cell_type": "markdown",
   "metadata": {},
   "source": [
    "Drop the 3 rows where **unitsPerPack** are not integer values, and then convert all values in both columns into integer type."
   ]
  },
  {
   "cell_type": "code",
   "execution_count": 30,
   "metadata": {},
   "outputs": [
    {
     "data": {
      "text/html": [
       "<div>\n",
       "<style scoped>\n",
       "    .dataframe tbody tr th:only-of-type {\n",
       "        vertical-align: middle;\n",
       "    }\n",
       "\n",
       "    .dataframe tbody tr th {\n",
       "        vertical-align: top;\n",
       "    }\n",
       "\n",
       "    .dataframe thead th {\n",
       "        text-align: right;\n",
       "    }\n",
       "</style>\n",
       "<table border=\"1\" class=\"dataframe\">\n",
       "  <thead>\n",
       "    <tr style=\"text-align: right;\">\n",
       "      <th></th>\n",
       "      <th>packs</th>\n",
       "      <th>unitsPerPack</th>\n",
       "      <th>litresPerUnit</th>\n",
       "      <th>pricePerLitre</th>\n",
       "      <th>litres</th>\n",
       "      <th>spend</th>\n",
       "    </tr>\n",
       "  </thead>\n",
       "  <tbody>\n",
       "    <tr>\n",
       "      <td>0</td>\n",
       "      <td>1</td>\n",
       "      <td>6</td>\n",
       "      <td>0.316667</td>\n",
       "      <td>23.684211</td>\n",
       "      <td>1.9</td>\n",
       "      <td>45.0</td>\n",
       "    </tr>\n",
       "    <tr>\n",
       "      <td>1</td>\n",
       "      <td>1</td>\n",
       "      <td>24</td>\n",
       "      <td>0.400000</td>\n",
       "      <td>18.229167</td>\n",
       "      <td>9.6</td>\n",
       "      <td>175.0</td>\n",
       "    </tr>\n",
       "    <tr>\n",
       "      <td>2</td>\n",
       "      <td>1</td>\n",
       "      <td>12</td>\n",
       "      <td>1.000000</td>\n",
       "      <td>19.166667</td>\n",
       "      <td>12.0</td>\n",
       "      <td>230.0</td>\n",
       "    </tr>\n",
       "    <tr>\n",
       "      <td>3</td>\n",
       "      <td>1</td>\n",
       "      <td>1</td>\n",
       "      <td>1.300000</td>\n",
       "      <td>16.153846</td>\n",
       "      <td>1.3</td>\n",
       "      <td>21.0</td>\n",
       "    </tr>\n",
       "    <tr>\n",
       "      <td>4</td>\n",
       "      <td>1</td>\n",
       "      <td>1</td>\n",
       "      <td>1.000000</td>\n",
       "      <td>31.000000</td>\n",
       "      <td>1.0</td>\n",
       "      <td>31.0</td>\n",
       "    </tr>\n",
       "  </tbody>\n",
       "</table>\n",
       "</div>"
      ],
      "text/plain": [
       "   packs  unitsPerPack  litresPerUnit  pricePerLitre  litres  spend\n",
       "0      1             6       0.316667      23.684211     1.9   45.0\n",
       "1      1            24       0.400000      18.229167     9.6  175.0\n",
       "2      1            12       1.000000      19.166667    12.0  230.0\n",
       "3      1             1       1.300000      16.153846     1.3   21.0\n",
       "4      1             1       1.000000      31.000000     1.0   31.0"
      ]
     },
     "execution_count": 30,
     "metadata": {},
     "output_type": "execute_result"
    }
   ],
   "source": [
    "rows = list(np.where((data['unitsPerPack'] % data['unitsPerPack'].astype(int)) != 0)[0])\n",
    "data = data.drop(rows, axis = 0)\n",
    "data['packs'] = data['packs'].astype(int)\n",
    "data['unitsPerPack'] = data['unitsPerPack'].astype(int)\n",
    "data = data.reset_index(drop=True)\n",
    "\n",
    "data[['packs', 'unitsPerPack', 'litresPerUnit', 'pricePerLitre', 'litres', 'spend']].head()"
   ]
  },
  {
   "cell_type": "markdown",
   "metadata": {},
   "source": [
    "# <font color='red'> 4. Inspect the Beverage details"
   ]
  },
  {
   "cell_type": "markdown",
   "metadata": {},
   "source": [
    "Recall that we have many missing values in these columns too."
   ]
  },
  {
   "cell_type": "code",
   "execution_count": 31,
   "metadata": {},
   "outputs": [
    {
     "data": {
      "text/html": [
       "<div>\n",
       "<style scoped>\n",
       "    .dataframe tbody tr th:only-of-type {\n",
       "        vertical-align: middle;\n",
       "    }\n",
       "\n",
       "    .dataframe tbody tr th {\n",
       "        vertical-align: top;\n",
       "    }\n",
       "\n",
       "    .dataframe thead th {\n",
       "        text-align: right;\n",
       "    }\n",
       "</style>\n",
       "<table border=\"1\" class=\"dataframe\">\n",
       "  <thead>\n",
       "    <tr style=\"text-align: right;\">\n",
       "      <th></th>\n",
       "      <th>mean</th>\n",
       "    </tr>\n",
       "  </thead>\n",
       "  <tbody>\n",
       "    <tr>\n",
       "      <td>BRAND_E1</td>\n",
       "      <td>0.000682</td>\n",
       "    </tr>\n",
       "    <tr>\n",
       "      <td>PACKAGE</td>\n",
       "      <td>0.000682</td>\n",
       "    </tr>\n",
       "    <tr>\n",
       "      <td>FLAVOUR</td>\n",
       "      <td>0.351867</td>\n",
       "    </tr>\n",
       "    <tr>\n",
       "      <td>FORMULA1</td>\n",
       "      <td>0.824722</td>\n",
       "    </tr>\n",
       "    <tr>\n",
       "      <td>FORMULA2</td>\n",
       "      <td>0.824722</td>\n",
       "    </tr>\n",
       "  </tbody>\n",
       "</table>\n",
       "</div>"
      ],
      "text/plain": [
       "              mean\n",
       "BRAND_E1  0.000682\n",
       "PACKAGE   0.000682\n",
       "FLAVOUR   0.351867\n",
       "FORMULA1  0.824722\n",
       "FORMULA2  0.824722"
      ]
     },
     "execution_count": 31,
     "metadata": {},
     "output_type": "execute_result"
    }
   ],
   "source": [
    "col_means = pd.DataFrame(data.isna().agg(func = np.mean), columns = ['mean'])\n",
    "col_means[col_means['mean'] != 0]"
   ]
  },
  {
   "cell_type": "markdown",
   "metadata": {},
   "source": [
    "We see that a huge proportion of the data is missing for the **FLAVOUR**, **FORMULA1** and **FORMULA2** columns.\n",
    "\n",
    "Let us look at these columns first."
   ]
  },
  {
   "cell_type": "code",
   "execution_count": 32,
   "metadata": {},
   "outputs": [
    {
     "data": {
      "text/html": [
       "<div>\n",
       "<style scoped>\n",
       "    .dataframe tbody tr th:only-of-type {\n",
       "        vertical-align: middle;\n",
       "    }\n",
       "\n",
       "    .dataframe tbody tr th {\n",
       "        vertical-align: top;\n",
       "    }\n",
       "\n",
       "    .dataframe thead th {\n",
       "        text-align: right;\n",
       "    }\n",
       "</style>\n",
       "<table border=\"1\" class=\"dataframe\">\n",
       "  <thead>\n",
       "    <tr style=\"text-align: right;\">\n",
       "      <th></th>\n",
       "      <th>category</th>\n",
       "      <th>BRAND_E1</th>\n",
       "      <th>packdesc</th>\n",
       "      <th>PACKAGE</th>\n",
       "      <th>FLAVOUR</th>\n",
       "      <th>FORMULA1</th>\n",
       "      <th>FORMULA2</th>\n",
       "      <th>SKU_DESC</th>\n",
       "    </tr>\n",
       "  </thead>\n",
       "  <tbody>\n",
       "    <tr>\n",
       "      <td>0</td>\n",
       "      <td>RTD TEA</td>\n",
       "      <td>YEN YEN BY ICHITAN</td>\n",
       "      <td>316.66666667ML X6</td>\n",
       "      <td>BOTTLE PLASTIC</td>\n",
       "      <td>COOL HERB TEA</td>\n",
       "      <td>NaN</td>\n",
       "      <td>NaN</td>\n",
       "      <td>RTD TEA YEN YEN BY ICHITAN 316.6ML X6 COOL HER...</td>\n",
       "    </tr>\n",
       "    <tr>\n",
       "      <td>1</td>\n",
       "      <td>RTD TEA</td>\n",
       "      <td>YEN JAB JAI</td>\n",
       "      <td>400ML X24</td>\n",
       "      <td>BOTTLE PLASTIC</td>\n",
       "      <td>JUBLIANG HERBAL</td>\n",
       "      <td>NaN</td>\n",
       "      <td>NaN</td>\n",
       "      <td>RTD TEA YEN JAB JAI 400ML X24 JUBLIANG HERBAL ...</td>\n",
       "    </tr>\n",
       "    <tr>\n",
       "      <td>2</td>\n",
       "      <td>CSD</td>\n",
       "      <td>PEPSI</td>\n",
       "      <td>1000ML X12</td>\n",
       "      <td>PLASTIC BOTTLE</td>\n",
       "      <td>COLA</td>\n",
       "      <td>NaN</td>\n",
       "      <td>NaN</td>\n",
       "      <td>CSD PEPSI 1000ML X12 COLA PLASTIC BOTTLE</td>\n",
       "    </tr>\n",
       "    <tr>\n",
       "      <td>3</td>\n",
       "      <td>CSD</td>\n",
       "      <td>FANTA</td>\n",
       "      <td>1300ML</td>\n",
       "      <td>PLASTIC BOTTLE</td>\n",
       "      <td>STRAWBERRY</td>\n",
       "      <td>NaN</td>\n",
       "      <td>NaN</td>\n",
       "      <td>CSD FANTA 1300ML STRAWBERRY PLASTIC BOTTLE</td>\n",
       "    </tr>\n",
       "    <tr>\n",
       "      <td>4</td>\n",
       "      <td>RTD TEA</td>\n",
       "      <td>LIPTON</td>\n",
       "      <td>1000ML</td>\n",
       "      <td>BOTTLE PLASTIC</td>\n",
       "      <td>LEMON ICE TEA</td>\n",
       "      <td>NaN</td>\n",
       "      <td>NaN</td>\n",
       "      <td>RTD TEA LIPTON 1000ML LEMON ICE TEA BOTTLE PLA...</td>\n",
       "    </tr>\n",
       "  </tbody>\n",
       "</table>\n",
       "</div>"
      ],
      "text/plain": [
       "  category            BRAND_E1           packdesc         PACKAGE  \\\n",
       "0  RTD TEA  YEN YEN BY ICHITAN  316.66666667ML X6  BOTTLE PLASTIC   \n",
       "1  RTD TEA         YEN JAB JAI          400ML X24  BOTTLE PLASTIC   \n",
       "2      CSD               PEPSI         1000ML X12  PLASTIC BOTTLE   \n",
       "3      CSD               FANTA             1300ML  PLASTIC BOTTLE   \n",
       "4  RTD TEA              LIPTON             1000ML  BOTTLE PLASTIC   \n",
       "\n",
       "           FLAVOUR FORMULA1 FORMULA2  \\\n",
       "0    COOL HERB TEA      NaN      NaN   \n",
       "1  JUBLIANG HERBAL      NaN      NaN   \n",
       "2             COLA      NaN      NaN   \n",
       "3       STRAWBERRY      NaN      NaN   \n",
       "4    LEMON ICE TEA      NaN      NaN   \n",
       "\n",
       "                                            SKU_DESC  \n",
       "0  RTD TEA YEN YEN BY ICHITAN 316.6ML X6 COOL HER...  \n",
       "1  RTD TEA YEN JAB JAI 400ML X24 JUBLIANG HERBAL ...  \n",
       "2           CSD PEPSI 1000ML X12 COLA PLASTIC BOTTLE  \n",
       "3         CSD FANTA 1300ML STRAWBERRY PLASTIC BOTTLE  \n",
       "4  RTD TEA LIPTON 1000ML LEMON ICE TEA BOTTLE PLA...  "
      ]
     },
     "execution_count": 32,
     "metadata": {},
     "output_type": "execute_result"
    }
   ],
   "source": [
    "data[['category', 'BRAND_E1', 'packdesc', 'PACKAGE', 'FLAVOUR', 'FORMULA1', 'FORMULA2', 'SKU_DESC']].head()"
   ]
  },
  {
   "cell_type": "markdown",
   "metadata": {},
   "source": [
    "We can immediately see that **packdesc** is a repetition of data from **litresPerUnit** and **unitsPerPack**. \n",
    "\n",
    "We also see that **SKU_DESC** repeats the quantity details, and also contain the details of the beverage in a \"dirty\" format. The details of the beverage can already be found in the category, **BRAND_E1**, **PACKAGE** and **FLAVOUR** columns.\n",
    "\n",
    "Thus, we will discard **packdesc** and **SKU_DESC**."
   ]
  },
  {
   "cell_type": "code",
   "execution_count": 33,
   "metadata": {},
   "outputs": [
    {
     "data": {
      "text/html": [
       "<div>\n",
       "<style scoped>\n",
       "    .dataframe tbody tr th:only-of-type {\n",
       "        vertical-align: middle;\n",
       "    }\n",
       "\n",
       "    .dataframe tbody tr th {\n",
       "        vertical-align: top;\n",
       "    }\n",
       "\n",
       "    .dataframe thead th {\n",
       "        text-align: right;\n",
       "    }\n",
       "</style>\n",
       "<table border=\"1\" class=\"dataframe\">\n",
       "  <thead>\n",
       "    <tr style=\"text-align: right;\">\n",
       "      <th></th>\n",
       "      <th>category</th>\n",
       "      <th>BRAND_E1</th>\n",
       "      <th>PACKAGE</th>\n",
       "      <th>FLAVOUR</th>\n",
       "      <th>FORMULA1</th>\n",
       "      <th>FORMULA2</th>\n",
       "    </tr>\n",
       "  </thead>\n",
       "  <tbody>\n",
       "    <tr>\n",
       "      <td>0</td>\n",
       "      <td>RTD TEA</td>\n",
       "      <td>YEN YEN BY ICHITAN</td>\n",
       "      <td>BOTTLE PLASTIC</td>\n",
       "      <td>COOL HERB TEA</td>\n",
       "      <td>NaN</td>\n",
       "      <td>NaN</td>\n",
       "    </tr>\n",
       "    <tr>\n",
       "      <td>1</td>\n",
       "      <td>RTD TEA</td>\n",
       "      <td>YEN JAB JAI</td>\n",
       "      <td>BOTTLE PLASTIC</td>\n",
       "      <td>JUBLIANG HERBAL</td>\n",
       "      <td>NaN</td>\n",
       "      <td>NaN</td>\n",
       "    </tr>\n",
       "    <tr>\n",
       "      <td>2</td>\n",
       "      <td>CSD</td>\n",
       "      <td>PEPSI</td>\n",
       "      <td>PLASTIC BOTTLE</td>\n",
       "      <td>COLA</td>\n",
       "      <td>NaN</td>\n",
       "      <td>NaN</td>\n",
       "    </tr>\n",
       "    <tr>\n",
       "      <td>3</td>\n",
       "      <td>CSD</td>\n",
       "      <td>FANTA</td>\n",
       "      <td>PLASTIC BOTTLE</td>\n",
       "      <td>STRAWBERRY</td>\n",
       "      <td>NaN</td>\n",
       "      <td>NaN</td>\n",
       "    </tr>\n",
       "    <tr>\n",
       "      <td>4</td>\n",
       "      <td>RTD TEA</td>\n",
       "      <td>LIPTON</td>\n",
       "      <td>BOTTLE PLASTIC</td>\n",
       "      <td>LEMON ICE TEA</td>\n",
       "      <td>NaN</td>\n",
       "      <td>NaN</td>\n",
       "    </tr>\n",
       "  </tbody>\n",
       "</table>\n",
       "</div>"
      ],
      "text/plain": [
       "  category            BRAND_E1         PACKAGE          FLAVOUR FORMULA1  \\\n",
       "0  RTD TEA  YEN YEN BY ICHITAN  BOTTLE PLASTIC    COOL HERB TEA      NaN   \n",
       "1  RTD TEA         YEN JAB JAI  BOTTLE PLASTIC  JUBLIANG HERBAL      NaN   \n",
       "2      CSD               PEPSI  PLASTIC BOTTLE             COLA      NaN   \n",
       "3      CSD               FANTA  PLASTIC BOTTLE       STRAWBERRY      NaN   \n",
       "4  RTD TEA              LIPTON  BOTTLE PLASTIC    LEMON ICE TEA      NaN   \n",
       "\n",
       "  FORMULA2  \n",
       "0      NaN  \n",
       "1      NaN  \n",
       "2      NaN  \n",
       "3      NaN  \n",
       "4      NaN  "
      ]
     },
     "execution_count": 33,
     "metadata": {},
     "output_type": "execute_result"
    }
   ],
   "source": [
    "data = data.drop(['packdesc', 'SKU_DESC'], axis = 1)\n",
    "data[['category', 'BRAND_E1', 'PACKAGE', 'FLAVOUR', 'FORMULA1', 'FORMULA2']].head()"
   ]
  },
  {
   "cell_type": "markdown",
   "metadata": {},
   "source": [
    "We will look at the type of values in the first 3 columns."
   ]
  },
  {
   "cell_type": "code",
   "execution_count": 34,
   "metadata": {},
   "outputs": [
    {
     "name": "stdout",
     "output_type": "stream",
     "text": [
      "WATER      140118\n",
      "CSD        137616\n",
      "JUICE       70112\n",
      "RTD TEA     51063\n",
      "Name: category, dtype: int64\n",
      "-------\n",
      "OTHERS BRAND    50011\n",
      "PEPSI           42646\n",
      "COCA COLA       39898\n",
      "FANTA           22816\n",
      "OISHI           18774\n",
      "                ...  \n",
      "NATION              1\n",
      "SOONTRA             1\n",
      "FAMILY MART         1\n",
      "OLE CUTE            1\n",
      "D ICE               1\n",
      "Name: BRAND_E1, Length: 582, dtype: int64\n",
      "-------\n",
      "PLASTIC BOTTLE    236224\n",
      "GALLON             56399\n",
      "BOTTLE PLASTIC     42169\n",
      "CARTON             32931\n",
      "CAN                13090\n",
      "GLASS BOTTLE       12352\n",
      "GABLE               2814\n",
      "CUP                 2570\n",
      "BOTTLE GLASS          60\n",
      "BAG                   26\n",
      "SACHET                 2\n",
      "Name: PACKAGE, dtype: int64\n"
     ]
    }
   ],
   "source": [
    "print(data['category'].value_counts())\n",
    "print(\"-------\")\n",
    "print(data['BRAND_E1'].value_counts())\n",
    "print(\"-------\")\n",
    "print(data['PACKAGE'].value_counts())"
   ]
  },
  {
   "cell_type": "markdown",
   "metadata": {},
   "source": [
    "From **category**, there are 4 kinds of categories of beverages. \n",
    "\n",
    "From **BRAND_E1**, there are 582 brands of beverages, although there is a huge number that is recorded as \"OTHERS BRAND\". \n",
    "\n",
    "From **PACKAGE**, there are 11 kinds of packaging. However, we notice that there are _PLASTIC BOTTLE_, _BOTTLE PLASTIC_, _GLASS BOTTLE_ and _BOTTLE GLASS_ as 4 of the 11 categories in this column. _PLASTIC BOTTLE_ and _BOTTLE PLASTIC_ should refer to the same kind of packaging, and _GLASS BOTTLE_ and _BOTTLE GLASS_ refers to the same kind of packaging as well. This is most likely due to mistakes made by the data collector, and thus we should rectify this."
   ]
  },
  {
   "cell_type": "code",
   "execution_count": 35,
   "metadata": {},
   "outputs": [],
   "source": [
    "packages = np.zeros(len(np.array(data['PACKAGE'])), dtype='object')\n",
    "for i, package in enumerate(np.array(data['PACKAGE'])):\n",
    "    if (package == \"BOTTLE PLASTIC\"):\n",
    "        packages[i] = \"PLASTIC BOTTLE\"\n",
    "    elif (package == \"BOTTLE GLASS\"):\n",
    "        packages[i] = \"GLASS BOTTLE\"\n",
    "    else:\n",
    "        packages[i] = package\n",
    "\n",
    "loc = int(np.where(data.columns == 'PACKAGE')[0][0])\n",
    "data.insert(loc, 'package', packages)\n",
    "data = data.drop(['PACKAGE'], axis = 1)"
   ]
  },
  {
   "cell_type": "code",
   "execution_count": 36,
   "metadata": {},
   "outputs": [
    {
     "data": {
      "text/plain": [
       "PLASTIC BOTTLE    278393\n",
       "GALLON             56399\n",
       "CARTON             32931\n",
       "CAN                13090\n",
       "GLASS BOTTLE       12412\n",
       "GABLE               2814\n",
       "CUP                 2570\n",
       "BAG                   26\n",
       "SACHET                 2\n",
       "Name: package, dtype: int64"
      ]
     },
     "execution_count": 36,
     "metadata": {},
     "output_type": "execute_result"
    }
   ],
   "source": [
    "data['package'].value_counts()"
   ]
  },
  {
   "cell_type": "markdown",
   "metadata": {},
   "source": [
    "The **package** column is now rectified. \n",
    "\n",
    "Recall that **BRAND_E1** and **package** have some missing values (0.0682% of the data). We will impute the missing values with _MISSING_."
   ]
  },
  {
   "cell_type": "code",
   "execution_count": 37,
   "metadata": {},
   "outputs": [],
   "source": [
    "from sklearn.impute import SimpleImputer\n",
    "\n",
    "# Initialise Imputer for categorical features\n",
    "imputer = SimpleImputer(strategy = 'constant', fill_value = 'MISSING')\n",
    "\n",
    "# Performs the imputation and returns a new Numpy array\n",
    "data_imputed = imputer.fit_transform(data[['BRAND_E1', 'package']])\n",
    "\n",
    "# Enter the data back into the dataframe\n",
    "data['BRAND_E1'] = data_imputed[:, 0]\n",
    "data['package'] = data_imputed[:, 1]"
   ]
  },
  {
   "cell_type": "code",
   "execution_count": 38,
   "metadata": {},
   "outputs": [
    {
     "data": {
      "text/html": [
       "<div>\n",
       "<style scoped>\n",
       "    .dataframe tbody tr th:only-of-type {\n",
       "        vertical-align: middle;\n",
       "    }\n",
       "\n",
       "    .dataframe tbody tr th {\n",
       "        vertical-align: top;\n",
       "    }\n",
       "\n",
       "    .dataframe thead th {\n",
       "        text-align: right;\n",
       "    }\n",
       "</style>\n",
       "<table border=\"1\" class=\"dataframe\">\n",
       "  <thead>\n",
       "    <tr style=\"text-align: right;\">\n",
       "      <th></th>\n",
       "      <th>mean</th>\n",
       "    </tr>\n",
       "  </thead>\n",
       "  <tbody>\n",
       "    <tr>\n",
       "      <td>FLAVOUR</td>\n",
       "      <td>0.351867</td>\n",
       "    </tr>\n",
       "    <tr>\n",
       "      <td>FORMULA1</td>\n",
       "      <td>0.824722</td>\n",
       "    </tr>\n",
       "    <tr>\n",
       "      <td>FORMULA2</td>\n",
       "      <td>0.824722</td>\n",
       "    </tr>\n",
       "  </tbody>\n",
       "</table>\n",
       "</div>"
      ],
      "text/plain": [
       "              mean\n",
       "FLAVOUR   0.351867\n",
       "FORMULA1  0.824722\n",
       "FORMULA2  0.824722"
      ]
     },
     "execution_count": 38,
     "metadata": {},
     "output_type": "execute_result"
    }
   ],
   "source": [
    "col_means = pd.DataFrame(data.isna().agg(func = np.mean), columns = ['mean'])\n",
    "col_means[col_means['mean'] != 0]"
   ]
  },
  {
   "cell_type": "markdown",
   "metadata": {},
   "source": [
    "Now, we are done with the imputation and the last 3 columns we have yet to inspect, each have a significant number of missing values. \n",
    "\n",
    "Let us look at the type of values they have."
   ]
  },
  {
   "cell_type": "code",
   "execution_count": 39,
   "metadata": {},
   "outputs": [
    {
     "data": {
      "text/plain": [
       "COLA                                           86038\n",
       "GREEN TEA HONEY LEMON                          17407\n",
       "STRAWBERRY                                     11566\n",
       "ORANGE                                          8897\n",
       "COOL HERB TEA                                   6661\n",
       "                                               ...  \n",
       "25% ORANGE JUICE WITH ORANGE PULP CONLLAGEN        1\n",
       "98% TOMATO JUICE                                   1\n",
       "100% CRANBERRY JUICE                               1\n",
       "GREEN TEA PLUM                                     1\n",
       "CONCENTRATE BLUEBERRY JUICE                        1\n",
       "Name: FLAVOUR, Length: 929, dtype: int64"
      ]
     },
     "execution_count": 39,
     "metadata": {},
     "output_type": "execute_result"
    }
   ],
   "source": [
    "data['FLAVOUR'].value_counts()"
   ]
  },
  {
   "cell_type": "markdown",
   "metadata": {},
   "source": [
    "I have an intution, that perhaps the 35% of the **FLAVOUR** column that has missing values, is because the **category** of beverage is WATER. \n",
    "\n",
    "Let us inspect that."
   ]
  },
  {
   "cell_type": "code",
   "execution_count": 40,
   "metadata": {},
   "outputs": [
    {
     "name": "stdout",
     "output_type": "stream",
     "text": [
      "1.0\n",
      "0.00022526450412742704\n",
      "0.0027384755819260614\n",
      "0.00043084033448876876\n"
     ]
    }
   ],
   "source": [
    "print(np.mean(data[data['category'] == 'WATER']['FLAVOUR'].isna()))\n",
    "print(np.mean(data[data['category'] == 'CSD']['FLAVOUR'].isna()))\n",
    "print(np.mean(data[data['category'] == 'JUICE']['FLAVOUR'].isna()))\n",
    "print(np.mean(data[data['category'] == 'RTD TEA']['FLAVOUR'].isna()))"
   ]
  },
  {
   "cell_type": "markdown",
   "metadata": {},
   "source": [
    "Since that is indeed the case, we will impute the missing values as _NOFLAVOUR_ if the **category** is _WATER_. Else, we will fill it as _MISSING_."
   ]
  },
  {
   "cell_type": "code",
   "execution_count": 41,
   "metadata": {},
   "outputs": [],
   "source": [
    "flavours = np.zeros(len(np.array(data['FLAVOUR'])), dtype='object')\n",
    "for i in range(len(np.array(data['FLAVOUR']))):\n",
    "    if data['category'][i] == 'WATER':\n",
    "        flavours[i] = 'NOFLAVOUR'\n",
    "    elif not isinstance(data['FLAVOUR'][i], str):\n",
    "        flavours[i] = 'MISSING'\n",
    "    else:\n",
    "        flavours[i] = data['FLAVOUR'][i]\n",
    "        \n",
    "data['FLAVOUR'] = flavours"
   ]
  },
  {
   "cell_type": "markdown",
   "metadata": {},
   "source": [
    "Now, look at the last two columns."
   ]
  },
  {
   "cell_type": "code",
   "execution_count": 42,
   "metadata": {},
   "outputs": [
    {
     "name": "stdout",
     "output_type": "stream",
     "text": [
      "Non   100%    50106\n",
      "100 %         19814\n",
      "Name: FORMULA1, dtype: int64\n",
      "-------\n",
      "RTD        69635\n",
      "NON RTD      285\n",
      "Name: FORMULA2, dtype: int64\n"
     ]
    }
   ],
   "source": [
    "print(data['FORMULA1'].value_counts())\n",
    "print(\"-------\")\n",
    "print(data['FORMULA2'].value_counts())"
   ]
  },
  {
   "cell_type": "markdown",
   "metadata": {},
   "source": [
    "It seems like they have the same count"
   ]
  },
  {
   "cell_type": "code",
   "execution_count": 43,
   "metadata": {},
   "outputs": [
    {
     "data": {
      "text/plain": [
       "True"
      ]
     },
     "execution_count": 43,
     "metadata": {},
     "output_type": "execute_result"
    }
   ],
   "source": [
    "sum(data['FORMULA1'].isna() == False) == sum(data['FORMULA2'].isna() == False)"
   ]
  },
  {
   "cell_type": "markdown",
   "metadata": {},
   "source": [
    "Let us look at where these values belong to. It is likely to belong to beverages from the _JUICE_ **category**, since the other 3 categories are all RTD already (Ready to Drink)."
   ]
  },
  {
   "cell_type": "code",
   "execution_count": 44,
   "metadata": {},
   "outputs": [
    {
     "name": "stdout",
     "output_type": "stream",
     "text": [
      "WATER      140118\n",
      "CSD        137616\n",
      "JUICE       70112\n",
      "RTD TEA     51063\n",
      "Name: category, dtype: int64\n",
      "----------------------------------\n",
      "JUICE    19814\n",
      "Name: category, dtype: int64\n",
      "----------------------------------\n",
      "JUICE    50106\n",
      "Name: category, dtype: int64\n",
      "----------------------------------\n",
      "JUICE    69635\n",
      "Name: category, dtype: int64\n",
      "----------------------------------\n",
      "JUICE    285\n",
      "Name: category, dtype: int64\n"
     ]
    }
   ],
   "source": [
    "print(data['category'].value_counts())\n",
    "print(\"----------------------------------\")\n",
    "print(data[data['FORMULA1'] == '100 %']['category'].value_counts())\n",
    "print(\"----------------------------------\")\n",
    "print(data[data['FORMULA1'] == 'Non   100%']['category'].value_counts())\n",
    "print(\"----------------------------------\")\n",
    "print(data[data['FORMULA2'] == 'RTD']['category'].value_counts())\n",
    "print(\"----------------------------------\")\n",
    "print(data[data['FORMULA2'] == 'NON RTD']['category'].value_counts())"
   ]
  },
  {
   "cell_type": "markdown",
   "metadata": {},
   "source": [
    "Indeed, the **FORMULA1** and **FORMULA2** columns are describing beverages that are of the _JUICE_ **category**.\n",
    "\n",
    "For **FORMULA1**, if the **category** is _JUICE_ and there are missing values, we will impute it as _MISSING_. If the **category** is not _JUICE_, we will impute the values as _NA_.\n",
    "\n",
    "For **FORMULA2**, if the **category** is _JUICE_ and there are missing values, we will impute it as _MISSING_. If the **category** is not _JUICE_, we will impute the values as _RTD_ (because _WATER_ , _CSD_ and _RTD TEA_ are all _RTD_ )."
   ]
  },
  {
   "cell_type": "code",
   "execution_count": 45,
   "metadata": {},
   "outputs": [],
   "source": [
    "formula1 = np.zeros(len(np.array(data['FORMULA1'])), dtype='object')\n",
    "formula2 = np.zeros(len(np.array(data['FORMULA2'])), dtype='object')\n",
    "\n",
    "for i in range(len(np.array(data['FORMULA1']))):\n",
    "    if data['category'][i] != 'JUICE':\n",
    "        formula1[i] = 'NA'\n",
    "        formula2[i] = 'RTD'\n",
    "    else:\n",
    "        if (not isinstance(data['FORMULA1'][i], str)):\n",
    "            formula1[i] = 'MISSING'\n",
    "        else:\n",
    "            formula1[i] = data['FORMULA1'][i]\n",
    "        \n",
    "        if (not isinstance(data['FORMULA2'][i], str)):\n",
    "            formula2[i] = 'MISSING'\n",
    "        else:\n",
    "            formula2[i] = data['FORMULA2'][i]\n",
    "\n",
    "data['FORMULA1'] = formula1\n",
    "data['FORMULA2'] = formula2"
   ]
  },
  {
   "cell_type": "markdown",
   "metadata": {},
   "source": [
    "Let us check if we imputed it correctly."
   ]
  },
  {
   "cell_type": "code",
   "execution_count": 46,
   "metadata": {},
   "outputs": [
    {
     "name": "stdout",
     "output_type": "stream",
     "text": [
      "NA            328797\n",
      "Non   100%     50106\n",
      "100 %          19814\n",
      "MISSING          192\n",
      "Name: FORMULA1, dtype: int64\n",
      "----------------------------------\n",
      "RTD        398432\n",
      "NON RTD       285\n",
      "MISSING       192\n",
      "Name: FORMULA2, dtype: int64\n"
     ]
    }
   ],
   "source": [
    "print(data['FORMULA1'].value_counts())\n",
    "print(\"----------------------------------\")\n",
    "print(data['FORMULA2'].value_counts())"
   ]
  },
  {
   "cell_type": "markdown",
   "metadata": {},
   "source": [
    "There are no more missing values in the dataframe."
   ]
  },
  {
   "cell_type": "code",
   "execution_count": 47,
   "metadata": {},
   "outputs": [
    {
     "data": {
      "text/html": [
       "<div>\n",
       "<style scoped>\n",
       "    .dataframe tbody tr th:only-of-type {\n",
       "        vertical-align: middle;\n",
       "    }\n",
       "\n",
       "    .dataframe tbody tr th {\n",
       "        vertical-align: top;\n",
       "    }\n",
       "\n",
       "    .dataframe thead th {\n",
       "        text-align: right;\n",
       "    }\n",
       "</style>\n",
       "<table border=\"1\" class=\"dataframe\">\n",
       "  <thead>\n",
       "    <tr style=\"text-align: right;\">\n",
       "      <th></th>\n",
       "      <th>mean</th>\n",
       "    </tr>\n",
       "  </thead>\n",
       "  <tbody>\n",
       "  </tbody>\n",
       "</table>\n",
       "</div>"
      ],
      "text/plain": [
       "Empty DataFrame\n",
       "Columns: [mean]\n",
       "Index: []"
      ]
     },
     "execution_count": 47,
     "metadata": {},
     "output_type": "execute_result"
    }
   ],
   "source": [
    "col_means = pd.DataFrame(data.isna().agg(func = np.mean), columns = ['mean'])\n",
    "col_means[col_means['mean'] != 0]"
   ]
  },
  {
   "cell_type": "code",
   "execution_count": 48,
   "metadata": {},
   "outputs": [
    {
     "data": {
      "text/html": [
       "<div>\n",
       "<style scoped>\n",
       "    .dataframe tbody tr th:only-of-type {\n",
       "        vertical-align: middle;\n",
       "    }\n",
       "\n",
       "    .dataframe tbody tr th {\n",
       "        vertical-align: top;\n",
       "    }\n",
       "\n",
       "    .dataframe thead th {\n",
       "        text-align: right;\n",
       "    }\n",
       "</style>\n",
       "<table border=\"1\" class=\"dataframe\">\n",
       "  <thead>\n",
       "    <tr style=\"text-align: right;\">\n",
       "      <th></th>\n",
       "      <th>spend</th>\n",
       "      <th>category</th>\n",
       "      <th>brand</th>\n",
       "      <th>package</th>\n",
       "      <th>flavour</th>\n",
       "      <th>concentration</th>\n",
       "      <th>RTD</th>\n",
       "      <th>DEMOG_AREA</th>\n",
       "      <th>DEMOG_HHINCOME</th>\n",
       "      <th>DEMOG_HHSIZE</th>\n",
       "      <th>DEMOG_LIFESTAGE</th>\n",
       "      <th>DEMOG_HWAGE</th>\n",
       "      <th>DEMOG_REGION</th>\n",
       "      <th>DEMOG_WORKINGSTATUS</th>\n",
       "    </tr>\n",
       "  </thead>\n",
       "  <tbody>\n",
       "    <tr>\n",
       "      <td>0</td>\n",
       "      <td>45.0</td>\n",
       "      <td>RTD TEA</td>\n",
       "      <td>YEN YEN BY ICHITAN</td>\n",
       "      <td>PLASTIC BOTTLE</td>\n",
       "      <td>COOL HERB TEA</td>\n",
       "      <td>NA</td>\n",
       "      <td>RTD</td>\n",
       "      <td>Greater Bangkok</td>\n",
       "      <td>Urban &gt;40000</td>\n",
       "      <td>3-4 Member HH</td>\n",
       "      <td>Mixed Adults Families</td>\n",
       "      <td>HWife age 50+</td>\n",
       "      <td>Greater Bangkok</td>\n",
       "      <td>Working</td>\n",
       "    </tr>\n",
       "    <tr>\n",
       "      <td>1</td>\n",
       "      <td>175.0</td>\n",
       "      <td>RTD TEA</td>\n",
       "      <td>YEN JAB JAI</td>\n",
       "      <td>PLASTIC BOTTLE</td>\n",
       "      <td>JUBLIANG HERBAL</td>\n",
       "      <td>NA</td>\n",
       "      <td>RTD</td>\n",
       "      <td>Greater Bangkok</td>\n",
       "      <td>Urban &gt;40000</td>\n",
       "      <td>3-4 Member HH</td>\n",
       "      <td>Mixed Adults Families</td>\n",
       "      <td>HWife age 50+</td>\n",
       "      <td>Greater Bangkok</td>\n",
       "      <td>Working</td>\n",
       "    </tr>\n",
       "    <tr>\n",
       "      <td>2</td>\n",
       "      <td>230.0</td>\n",
       "      <td>CSD</td>\n",
       "      <td>PEPSI</td>\n",
       "      <td>PLASTIC BOTTLE</td>\n",
       "      <td>COLA</td>\n",
       "      <td>NA</td>\n",
       "      <td>RTD</td>\n",
       "      <td>Greater Bangkok</td>\n",
       "      <td>Urban &gt;40000</td>\n",
       "      <td>3-4 Member HH</td>\n",
       "      <td>Mixed Adults Families</td>\n",
       "      <td>HWife age 50+</td>\n",
       "      <td>Greater Bangkok</td>\n",
       "      <td>Working</td>\n",
       "    </tr>\n",
       "    <tr>\n",
       "      <td>3</td>\n",
       "      <td>21.0</td>\n",
       "      <td>CSD</td>\n",
       "      <td>FANTA</td>\n",
       "      <td>PLASTIC BOTTLE</td>\n",
       "      <td>STRAWBERRY</td>\n",
       "      <td>NA</td>\n",
       "      <td>RTD</td>\n",
       "      <td>Greater Bangkok</td>\n",
       "      <td>Urban &gt;40000</td>\n",
       "      <td>3-4 Member HH</td>\n",
       "      <td>Mixed Adults Families</td>\n",
       "      <td>HWife age 50+</td>\n",
       "      <td>Greater Bangkok</td>\n",
       "      <td>Working</td>\n",
       "    </tr>\n",
       "    <tr>\n",
       "      <td>4</td>\n",
       "      <td>31.0</td>\n",
       "      <td>RTD TEA</td>\n",
       "      <td>LIPTON</td>\n",
       "      <td>PLASTIC BOTTLE</td>\n",
       "      <td>LEMON ICE TEA</td>\n",
       "      <td>NA</td>\n",
       "      <td>RTD</td>\n",
       "      <td>Greater Bangkok</td>\n",
       "      <td>Urban &gt;40000</td>\n",
       "      <td>3-4 Member HH</td>\n",
       "      <td>Mixed Adults Families</td>\n",
       "      <td>HWife age 50+</td>\n",
       "      <td>Greater Bangkok</td>\n",
       "      <td>Working</td>\n",
       "    </tr>\n",
       "  </tbody>\n",
       "</table>\n",
       "</div>"
      ],
      "text/plain": [
       "   spend category               brand         package          flavour  \\\n",
       "0   45.0  RTD TEA  YEN YEN BY ICHITAN  PLASTIC BOTTLE    COOL HERB TEA   \n",
       "1  175.0  RTD TEA         YEN JAB JAI  PLASTIC BOTTLE  JUBLIANG HERBAL   \n",
       "2  230.0      CSD               PEPSI  PLASTIC BOTTLE             COLA   \n",
       "3   21.0      CSD               FANTA  PLASTIC BOTTLE       STRAWBERRY   \n",
       "4   31.0  RTD TEA              LIPTON  PLASTIC BOTTLE    LEMON ICE TEA   \n",
       "\n",
       "  concentration  RTD       DEMOG_AREA DEMOG_HHINCOME   DEMOG_HHSIZE  \\\n",
       "0            NA  RTD  Greater Bangkok   Urban >40000  3-4 Member HH   \n",
       "1            NA  RTD  Greater Bangkok   Urban >40000  3-4 Member HH   \n",
       "2            NA  RTD  Greater Bangkok   Urban >40000  3-4 Member HH   \n",
       "3            NA  RTD  Greater Bangkok   Urban >40000  3-4 Member HH   \n",
       "4            NA  RTD  Greater Bangkok   Urban >40000  3-4 Member HH   \n",
       "\n",
       "         DEMOG_LIFESTAGE    DEMOG_HWAGE     DEMOG_REGION DEMOG_WORKINGSTATUS  \n",
       "0  Mixed Adults Families  HWife age 50+  Greater Bangkok             Working  \n",
       "1  Mixed Adults Families  HWife age 50+  Greater Bangkok             Working  \n",
       "2  Mixed Adults Families  HWife age 50+  Greater Bangkok             Working  \n",
       "3  Mixed Adults Families  HWife age 50+  Greater Bangkok             Working  \n",
       "4  Mixed Adults Families  HWife age 50+  Greater Bangkok             Working  "
      ]
     },
     "execution_count": 48,
     "metadata": {},
     "output_type": "execute_result"
    }
   ],
   "source": [
    "data = data.rename(columns = {'BRAND_E1' : 'brand',\n",
    "                              'FLAVOUR' : 'flavour',\n",
    "                              'FORMULA1' : 'concentration',\n",
    "                              'FORMULA2' : 'RTD'})\n",
    "data.iloc[:, 12:].head()"
   ]
  },
  {
   "cell_type": "markdown",
   "metadata": {},
   "source": [
    "# <font color='red'> 5. Inspect the Demographic of Buyers"
   ]
  },
  {
   "cell_type": "code",
   "execution_count": 49,
   "metadata": {},
   "outputs": [
    {
     "data": {
      "text/html": [
       "<div>\n",
       "<style scoped>\n",
       "    .dataframe tbody tr th:only-of-type {\n",
       "        vertical-align: middle;\n",
       "    }\n",
       "\n",
       "    .dataframe tbody tr th {\n",
       "        vertical-align: top;\n",
       "    }\n",
       "\n",
       "    .dataframe thead th {\n",
       "        text-align: right;\n",
       "    }\n",
       "</style>\n",
       "<table border=\"1\" class=\"dataframe\">\n",
       "  <thead>\n",
       "    <tr style=\"text-align: right;\">\n",
       "      <th></th>\n",
       "      <th>DEMOG_AREA</th>\n",
       "      <th>DEMOG_HHINCOME</th>\n",
       "      <th>DEMOG_HHSIZE</th>\n",
       "      <th>DEMOG_LIFESTAGE</th>\n",
       "      <th>DEMOG_HWAGE</th>\n",
       "      <th>DEMOG_REGION</th>\n",
       "      <th>DEMOG_WORKINGSTATUS</th>\n",
       "    </tr>\n",
       "  </thead>\n",
       "  <tbody>\n",
       "    <tr>\n",
       "      <td>0</td>\n",
       "      <td>Greater Bangkok</td>\n",
       "      <td>Urban &gt;40000</td>\n",
       "      <td>3-4 Member HH</td>\n",
       "      <td>Mixed Adults Families</td>\n",
       "      <td>HWife age 50+</td>\n",
       "      <td>Greater Bangkok</td>\n",
       "      <td>Working</td>\n",
       "    </tr>\n",
       "    <tr>\n",
       "      <td>1</td>\n",
       "      <td>Greater Bangkok</td>\n",
       "      <td>Urban &gt;40000</td>\n",
       "      <td>3-4 Member HH</td>\n",
       "      <td>Mixed Adults Families</td>\n",
       "      <td>HWife age 50+</td>\n",
       "      <td>Greater Bangkok</td>\n",
       "      <td>Working</td>\n",
       "    </tr>\n",
       "    <tr>\n",
       "      <td>2</td>\n",
       "      <td>Greater Bangkok</td>\n",
       "      <td>Urban &gt;40000</td>\n",
       "      <td>3-4 Member HH</td>\n",
       "      <td>Mixed Adults Families</td>\n",
       "      <td>HWife age 50+</td>\n",
       "      <td>Greater Bangkok</td>\n",
       "      <td>Working</td>\n",
       "    </tr>\n",
       "    <tr>\n",
       "      <td>3</td>\n",
       "      <td>Greater Bangkok</td>\n",
       "      <td>Urban &gt;40000</td>\n",
       "      <td>3-4 Member HH</td>\n",
       "      <td>Mixed Adults Families</td>\n",
       "      <td>HWife age 50+</td>\n",
       "      <td>Greater Bangkok</td>\n",
       "      <td>Working</td>\n",
       "    </tr>\n",
       "    <tr>\n",
       "      <td>4</td>\n",
       "      <td>Greater Bangkok</td>\n",
       "      <td>Urban &gt;40000</td>\n",
       "      <td>3-4 Member HH</td>\n",
       "      <td>Mixed Adults Families</td>\n",
       "      <td>HWife age 50+</td>\n",
       "      <td>Greater Bangkok</td>\n",
       "      <td>Working</td>\n",
       "    </tr>\n",
       "  </tbody>\n",
       "</table>\n",
       "</div>"
      ],
      "text/plain": [
       "        DEMOG_AREA DEMOG_HHINCOME   DEMOG_HHSIZE        DEMOG_LIFESTAGE  \\\n",
       "0  Greater Bangkok   Urban >40000  3-4 Member HH  Mixed Adults Families   \n",
       "1  Greater Bangkok   Urban >40000  3-4 Member HH  Mixed Adults Families   \n",
       "2  Greater Bangkok   Urban >40000  3-4 Member HH  Mixed Adults Families   \n",
       "3  Greater Bangkok   Urban >40000  3-4 Member HH  Mixed Adults Families   \n",
       "4  Greater Bangkok   Urban >40000  3-4 Member HH  Mixed Adults Families   \n",
       "\n",
       "     DEMOG_HWAGE     DEMOG_REGION DEMOG_WORKINGSTATUS  \n",
       "0  HWife age 50+  Greater Bangkok             Working  \n",
       "1  HWife age 50+  Greater Bangkok             Working  \n",
       "2  HWife age 50+  Greater Bangkok             Working  \n",
       "3  HWife age 50+  Greater Bangkok             Working  \n",
       "4  HWife age 50+  Greater Bangkok             Working  "
      ]
     },
     "execution_count": 49,
     "metadata": {},
     "output_type": "execute_result"
    }
   ],
   "source": [
    "data[['DEMOG_AREA', 'DEMOG_HHINCOME', 'DEMOG_HHSIZE', 'DEMOG_LIFESTAGE', \n",
    "      'DEMOG_HWAGE', 'DEMOG_REGION', 'DEMOG_WORKINGSTATUS']].head()"
   ]
  },
  {
   "cell_type": "code",
   "execution_count": 50,
   "metadata": {},
   "outputs": [
    {
     "name": "stdout",
     "output_type": "stream",
     "text": [
      "Upcountry Rural    156941\n",
      "Upcountry Urban    136590\n",
      "Greater Bangkok    105378\n",
      "Name: DEMOG_AREA, dtype: int64\n",
      "----------------------------------\n",
      "Urban 17500-40000    99344\n",
      "Urban >40000         85361\n",
      "Rural >15000         83662\n",
      "Rural 6000-15000     61033\n",
      "Urban < 17500        57263\n",
      "Rural <6000          12246\n",
      "Name: DEMOG_HHINCOME, dtype: int64\n",
      "----------------------------------\n",
      "3-4 Member HH    179992\n",
      "2 Member HH       89400\n",
      "5-6 Member HH     74632\n",
      "1 Member HH       39931\n",
      "7+ Member HH      14954\n",
      "Name: DEMOG_HHSIZE, dtype: int64\n",
      "----------------------------------\n",
      "Families w Child 4-12        117725\n",
      "Families w Teenager 13-19     68648\n",
      "Mixed Adults Families         59557\n",
      "Older Couples                 40012\n",
      "Families w Baby 0-3           39009\n",
      "Younger Couples               34027\n",
      "Younger Singles               20184\n",
      "Older Singles                 19747\n",
      "Name: DEMOG_LIFESTAGE, dtype: int64\n",
      "----------------------------------\n",
      "HWife age 35-49    179671\n",
      "HWife age 50+      167702\n",
      "HWife age <35       51536\n",
      "Name: DEMOG_HWAGE, dtype: int64\n",
      "----------------------------------\n",
      "Greater Bangkok    105378\n",
      "North-East          91427\n",
      "Central             73296\n",
      "North               67409\n",
      "South               61399\n",
      "Name: DEMOG_REGION, dtype: int64\n",
      "----------------------------------\n",
      "Working        311151\n",
      "Not Working     87758\n",
      "Name: DEMOG_WORKINGSTATUS, dtype: int64\n"
     ]
    }
   ],
   "source": [
    "print(data['DEMOG_AREA'].value_counts())\n",
    "print(\"----------------------------------\")\n",
    "print(data['DEMOG_HHINCOME'].value_counts())\n",
    "print(\"----------------------------------\")\n",
    "print(data['DEMOG_HHSIZE'].value_counts())\n",
    "print(\"----------------------------------\")\n",
    "print(data['DEMOG_LIFESTAGE'].value_counts())\n",
    "print(\"----------------------------------\")\n",
    "print(data['DEMOG_HWAGE'].value_counts())\n",
    "print(\"----------------------------------\")\n",
    "print(data['DEMOG_REGION'].value_counts())\n",
    "print(\"----------------------------------\")\n",
    "print(data['DEMOG_WORKINGSTATUS'].value_counts())"
   ]
  },
  {
   "cell_type": "markdown",
   "metadata": {},
   "source": [
    "For the columns **DEMOG_HHSIZE**, **DEMOG_LIFESTAGE**, **DEMOG_HWAGE** and **DEMOG_WORKINGSTATUS**, the categories are relatively straightforward and thus we will not augment the data.\n",
    "\n",
    "We will look at **DEMOG_AREA**, **DEMOG_HHINCOME** and **DEMOG_REGION**. It seems like there is some relationship between them."
   ]
  },
  {
   "cell_type": "code",
   "execution_count": 51,
   "metadata": {},
   "outputs": [
    {
     "name": "stdout",
     "output_type": "stream",
     "text": [
      "Rural >15000        83662\n",
      "Rural 6000-15000    61033\n",
      "Rural <6000         12246\n",
      "Name: DEMOG_HHINCOME, dtype: int64\n",
      "----------------------------------\n",
      "Urban 17500-40000    56392\n",
      "Urban >40000         43163\n",
      "Urban < 17500        37035\n",
      "Name: DEMOG_HHINCOME, dtype: int64\n",
      "----------------------------------\n",
      "Urban 17500-40000    42952\n",
      "Urban >40000         42198\n",
      "Urban < 17500        20228\n",
      "Name: DEMOG_HHINCOME, dtype: int64\n",
      "----------------------------------\n"
     ]
    }
   ],
   "source": [
    "print(data[data['DEMOG_AREA'] == 'Upcountry Rural']['DEMOG_HHINCOME'].value_counts())\n",
    "print(\"----------------------------------\")\n",
    "print(data[data['DEMOG_AREA'] == 'Upcountry Urban']['DEMOG_HHINCOME'].value_counts())\n",
    "print(\"----------------------------------\")\n",
    "print(data[data['DEMOG_AREA'] == 'Greater Bangkok']['DEMOG_HHINCOME'].value_counts())\n",
    "print(\"----------------------------------\")"
   ]
  },
  {
   "cell_type": "markdown",
   "metadata": {},
   "source": [
    "Yes, it seems like for the category _Upcountry Rral_ in **DEMOG_AREA**, all the household incomes (**DEMOG_HHINCOME**) are categorised under the Rural bracket. Whereas for _Upcountry Urban_ and _Greater Bangkok_, all the household incomes are categorised under the Urban bracket."
   ]
  },
  {
   "cell_type": "code",
   "execution_count": 52,
   "metadata": {},
   "outputs": [
    {
     "name": "stdout",
     "output_type": "stream",
     "text": [
      "Greater Bangkok    105378\n",
      "Name: DEMOG_AREA, dtype: int64\n",
      "----------------------------------\n",
      "Upcountry Urban    48986\n",
      "Upcountry Rural    42441\n",
      "Name: DEMOG_AREA, dtype: int64\n",
      "----------------------------------\n",
      "Upcountry Rural    41021\n",
      "Upcountry Urban    32275\n",
      "Name: DEMOG_AREA, dtype: int64\n",
      "----------------------------------\n",
      "Upcountry Rural    38266\n",
      "Upcountry Urban    29143\n",
      "Name: DEMOG_AREA, dtype: int64\n",
      "----------------------------------\n",
      "Upcountry Rural    35213\n",
      "Upcountry Urban    26186\n",
      "Name: DEMOG_AREA, dtype: int64\n"
     ]
    }
   ],
   "source": [
    "print(data[data['DEMOG_REGION'] == 'Greater Bangkok']['DEMOG_AREA'].value_counts())\n",
    "print(\"----------------------------------\")\n",
    "print(data[data['DEMOG_REGION'] == 'North-East']['DEMOG_AREA'].value_counts())\n",
    "print(\"----------------------------------\")\n",
    "print(data[data['DEMOG_REGION'] == 'Central']['DEMOG_AREA'].value_counts())\n",
    "print(\"----------------------------------\")\n",
    "print(data[data['DEMOG_REGION'] == 'North']['DEMOG_AREA'].value_counts())\n",
    "print(\"----------------------------------\")\n",
    "print(data[data['DEMOG_REGION'] == 'South']['DEMOG_AREA'].value_counts())"
   ]
  },
  {
   "cell_type": "markdown",
   "metadata": {},
   "source": [
    "It seems like the relationship in this dataset is that Thailand is considered to have 5 regions. For each of the 4 regions other than Greater Bangkok, there is the Upcountry Rural and Upcountry Urban areas of the region. For the Greater Bangkok region, there is only considered to be one area, which is also Greater Bangkok, and is considered to be Urban."
   ]
  },
  {
   "cell_type": "markdown",
   "metadata": {},
   "source": [
    "We will augment the **DEMOG_HHINCOME** into _LOW_ , _MID_ and _HIGH_ . \n",
    "1. _LOW_ : 'Urban < 17500' and 'Rural <6000'\n",
    "2. _MID_ : 'Urban 17500-40000' and 'Rural 6000-15000'\n",
    "3. _HIGH_ : 'Urban >40000' and 'Rural >15000'"
   ]
  },
  {
   "cell_type": "code",
   "execution_count": 53,
   "metadata": {},
   "outputs": [],
   "source": [
    "income = np.zeros(len(np.array(data['DEMOG_HHINCOME'])), dtype='object')\n",
    "\n",
    "for i in range(len(np.array(data['DEMOG_HHINCOME']))):\n",
    "    if data['DEMOG_HHINCOME'][i] in ('Urban < 17500', 'Rural <6000'):\n",
    "        income[i] = 'LOW'\n",
    "    elif data['DEMOG_HHINCOME'][i] in ('Urban 17500-40000', 'Rural 6000-15000'):\n",
    "        income[i] = 'MID'\n",
    "    elif data['DEMOG_HHINCOME'][i] in ('Urban >40000', 'Rural >15000'):\n",
    "        income[i] = 'HIGH'\n",
    "\n",
    "data['DEMOG_HHINCOME'] = income"
   ]
  },
  {
   "cell_type": "markdown",
   "metadata": {},
   "source": [
    "We will also augment the **DEMOG_AREA**. \n",
    "\n",
    "We will convert all _Greater Bangkok_ and _Upcountry Urban_ to _Urban_ , and convert all _Upcountry Rural_ to _Rural_.\n"
   ]
  },
  {
   "cell_type": "code",
   "execution_count": 54,
   "metadata": {},
   "outputs": [],
   "source": [
    "area = np.zeros(len(np.array(data['DEMOG_AREA'])), dtype='object')\n",
    "\n",
    "for i in range(len(np.array(data['DEMOG_AREA']))):\n",
    "    if data['DEMOG_AREA'][i] in ('Upcountry Urban', 'Greater Bangkok'):\n",
    "        area[i] = 'Urban'\n",
    "    elif data['DEMOG_AREA'][i] == 'Upcountry Rural':\n",
    "        area[i] = 'Rural'\n",
    "\n",
    "data['DEMOG_AREA'] = area"
   ]
  },
  {
   "cell_type": "markdown",
   "metadata": {},
   "source": [
    "Rename and reorder the columns."
   ]
  },
  {
   "cell_type": "code",
   "execution_count": 55,
   "metadata": {
    "scrolled": true
   },
   "outputs": [
    {
     "data": {
      "text/html": [
       "<div>\n",
       "<style scoped>\n",
       "    .dataframe tbody tr th:only-of-type {\n",
       "        vertical-align: middle;\n",
       "    }\n",
       "\n",
       "    .dataframe tbody tr th {\n",
       "        vertical-align: top;\n",
       "    }\n",
       "\n",
       "    .dataframe thead th {\n",
       "        text-align: right;\n",
       "    }\n",
       "</style>\n",
       "<table border=\"1\" class=\"dataframe\">\n",
       "  <thead>\n",
       "    <tr style=\"text-align: right;\">\n",
       "      <th></th>\n",
       "      <th>houseId</th>\n",
       "      <th>dateRecorded</th>\n",
       "      <th>datePurchase</th>\n",
       "      <th>weekday</th>\n",
       "      <th>trade</th>\n",
       "      <th>channel</th>\n",
       "      <th>storeName</th>\n",
       "      <th>packs</th>\n",
       "      <th>unitsPerPack</th>\n",
       "      <th>litresPerUnit</th>\n",
       "      <th>...</th>\n",
       "      <th>flavour</th>\n",
       "      <th>concentration</th>\n",
       "      <th>RTD</th>\n",
       "      <th>demogRegion</th>\n",
       "      <th>demogArea</th>\n",
       "      <th>demogWorkingStatus</th>\n",
       "      <th>demogHhincome</th>\n",
       "      <th>demogHhsize</th>\n",
       "      <th>demogLifestage</th>\n",
       "      <th>demogHwage</th>\n",
       "    </tr>\n",
       "  </thead>\n",
       "  <tbody>\n",
       "    <tr>\n",
       "      <td>0</td>\n",
       "      <td>1</td>\n",
       "      <td>2016-01-03</td>\n",
       "      <td>2016-01-02</td>\n",
       "      <td>Saturday</td>\n",
       "      <td>Modern Trade</td>\n",
       "      <td>Hypermarkets</td>\n",
       "      <td>Makro</td>\n",
       "      <td>1</td>\n",
       "      <td>6</td>\n",
       "      <td>0.316667</td>\n",
       "      <td>...</td>\n",
       "      <td>COOL HERB TEA</td>\n",
       "      <td>NA</td>\n",
       "      <td>RTD</td>\n",
       "      <td>Greater Bangkok</td>\n",
       "      <td>Urban</td>\n",
       "      <td>Working</td>\n",
       "      <td>HIGH</td>\n",
       "      <td>3-4 Member HH</td>\n",
       "      <td>Mixed Adults Families</td>\n",
       "      <td>HWife age 50+</td>\n",
       "    </tr>\n",
       "    <tr>\n",
       "      <td>1</td>\n",
       "      <td>1</td>\n",
       "      <td>2016-01-03</td>\n",
       "      <td>2016-01-02</td>\n",
       "      <td>Saturday</td>\n",
       "      <td>Modern Trade</td>\n",
       "      <td>Hypermarkets</td>\n",
       "      <td>Makro</td>\n",
       "      <td>1</td>\n",
       "      <td>24</td>\n",
       "      <td>0.400000</td>\n",
       "      <td>...</td>\n",
       "      <td>JUBLIANG HERBAL</td>\n",
       "      <td>NA</td>\n",
       "      <td>RTD</td>\n",
       "      <td>Greater Bangkok</td>\n",
       "      <td>Urban</td>\n",
       "      <td>Working</td>\n",
       "      <td>HIGH</td>\n",
       "      <td>3-4 Member HH</td>\n",
       "      <td>Mixed Adults Families</td>\n",
       "      <td>HWife age 50+</td>\n",
       "    </tr>\n",
       "    <tr>\n",
       "      <td>2</td>\n",
       "      <td>1</td>\n",
       "      <td>2016-01-03</td>\n",
       "      <td>2015-12-31</td>\n",
       "      <td>Thursday</td>\n",
       "      <td>Modern Trade</td>\n",
       "      <td>Hypermarkets</td>\n",
       "      <td>Big C</td>\n",
       "      <td>1</td>\n",
       "      <td>12</td>\n",
       "      <td>1.000000</td>\n",
       "      <td>...</td>\n",
       "      <td>COLA</td>\n",
       "      <td>NA</td>\n",
       "      <td>RTD</td>\n",
       "      <td>Greater Bangkok</td>\n",
       "      <td>Urban</td>\n",
       "      <td>Working</td>\n",
       "      <td>HIGH</td>\n",
       "      <td>3-4 Member HH</td>\n",
       "      <td>Mixed Adults Families</td>\n",
       "      <td>HWife age 50+</td>\n",
       "    </tr>\n",
       "    <tr>\n",
       "      <td>3</td>\n",
       "      <td>1</td>\n",
       "      <td>2016-01-03</td>\n",
       "      <td>2015-12-31</td>\n",
       "      <td>Thursday</td>\n",
       "      <td>Modern Trade</td>\n",
       "      <td>Hypermarkets</td>\n",
       "      <td>Big C</td>\n",
       "      <td>1</td>\n",
       "      <td>1</td>\n",
       "      <td>1.300000</td>\n",
       "      <td>...</td>\n",
       "      <td>STRAWBERRY</td>\n",
       "      <td>NA</td>\n",
       "      <td>RTD</td>\n",
       "      <td>Greater Bangkok</td>\n",
       "      <td>Urban</td>\n",
       "      <td>Working</td>\n",
       "      <td>HIGH</td>\n",
       "      <td>3-4 Member HH</td>\n",
       "      <td>Mixed Adults Families</td>\n",
       "      <td>HWife age 50+</td>\n",
       "    </tr>\n",
       "    <tr>\n",
       "      <td>4</td>\n",
       "      <td>1</td>\n",
       "      <td>2016-01-24</td>\n",
       "      <td>2016-01-21</td>\n",
       "      <td>Thursday</td>\n",
       "      <td>Modern Trade</td>\n",
       "      <td>Hypermarkets</td>\n",
       "      <td>Big C</td>\n",
       "      <td>1</td>\n",
       "      <td>1</td>\n",
       "      <td>1.000000</td>\n",
       "      <td>...</td>\n",
       "      <td>LEMON ICE TEA</td>\n",
       "      <td>NA</td>\n",
       "      <td>RTD</td>\n",
       "      <td>Greater Bangkok</td>\n",
       "      <td>Urban</td>\n",
       "      <td>Working</td>\n",
       "      <td>HIGH</td>\n",
       "      <td>3-4 Member HH</td>\n",
       "      <td>Mixed Adults Families</td>\n",
       "      <td>HWife age 50+</td>\n",
       "    </tr>\n",
       "  </tbody>\n",
       "</table>\n",
       "<p>5 rows × 26 columns</p>\n",
       "</div>"
      ],
      "text/plain": [
       "   houseId dateRecorded datePurchase   weekday         trade       channel  \\\n",
       "0        1   2016-01-03   2016-01-02  Saturday  Modern Trade  Hypermarkets   \n",
       "1        1   2016-01-03   2016-01-02  Saturday  Modern Trade  Hypermarkets   \n",
       "2        1   2016-01-03   2015-12-31  Thursday  Modern Trade  Hypermarkets   \n",
       "3        1   2016-01-03   2015-12-31  Thursday  Modern Trade  Hypermarkets   \n",
       "4        1   2016-01-24   2016-01-21  Thursday  Modern Trade  Hypermarkets   \n",
       "\n",
       "  storeName  packs  unitsPerPack  litresPerUnit  ...          flavour  \\\n",
       "0     Makro      1             6       0.316667  ...    COOL HERB TEA   \n",
       "1     Makro      1            24       0.400000  ...  JUBLIANG HERBAL   \n",
       "2     Big C      1            12       1.000000  ...             COLA   \n",
       "3     Big C      1             1       1.300000  ...       STRAWBERRY   \n",
       "4     Big C      1             1       1.000000  ...    LEMON ICE TEA   \n",
       "\n",
       "   concentration  RTD      demogRegion demogArea demogWorkingStatus  \\\n",
       "0             NA  RTD  Greater Bangkok     Urban            Working   \n",
       "1             NA  RTD  Greater Bangkok     Urban            Working   \n",
       "2             NA  RTD  Greater Bangkok     Urban            Working   \n",
       "3             NA  RTD  Greater Bangkok     Urban            Working   \n",
       "4             NA  RTD  Greater Bangkok     Urban            Working   \n",
       "\n",
       "  demogHhincome    demogHhsize         demogLifestage     demogHwage  \n",
       "0          HIGH  3-4 Member HH  Mixed Adults Families  HWife age 50+  \n",
       "1          HIGH  3-4 Member HH  Mixed Adults Families  HWife age 50+  \n",
       "2          HIGH  3-4 Member HH  Mixed Adults Families  HWife age 50+  \n",
       "3          HIGH  3-4 Member HH  Mixed Adults Families  HWife age 50+  \n",
       "4          HIGH  3-4 Member HH  Mixed Adults Families  HWife age 50+  \n",
       "\n",
       "[5 rows x 26 columns]"
      ]
     },
     "execution_count": 55,
     "metadata": {},
     "output_type": "execute_result"
    }
   ],
   "source": [
    "data = data.rename(columns = {'DEMOG_AREA' : 'demogArea',\n",
    "                              'DEMOG_HHINCOME' : 'demogHhincome',\n",
    "                              'DEMOG_HHSIZE' : 'demogHhsize',\n",
    "                              'DEMOG_LIFESTAGE' : 'demogLifestage',\n",
    "                              'DEMOG_HWAGE' : 'demogHwage',\n",
    "                              'DEMOG_REGION' : 'demogRegion',\n",
    "                              'DEMOG_WORKINGSTATUS' : 'demogWorkingStatus'})\n",
    "\n",
    "cols = list(data.columns)\n",
    "beforeDemog = cols[0 : cols.index('demogArea')]\n",
    "reorgDemog = ['demogRegion', 'demogArea', 'demogWorkingStatus', 'demogHhincome', \n",
    "              'demogHhsize', 'demogLifestage', 'demogHwage']\n",
    "beforeDemog.extend(reorgDemog)\n",
    "data = data[beforeDemog]\n",
    "data.head()"
   ]
  },
  {
   "cell_type": "markdown",
   "metadata": {},
   "source": [
    "# We are finally done with cleaning the data!"
   ]
  },
  {
   "cell_type": "markdown",
   "metadata": {},
   "source": [
    "Additionally, we will randomly add Cities to the dataset according to their **demogRegion** (source: https://en.wikipedia.org/wiki/Regions_of_Thailand). This is for visualisation purposes in Tableau. We will be grouping the cities in Tableau."
   ]
  },
  {
   "cell_type": "code",
   "execution_count": 56,
   "metadata": {},
   "outputs": [],
   "source": [
    "rand_cities = np.zeros(len(np.array(data['demogRegion'])), dtype='object')\n",
    "\n",
    "northeast = 'Amnat Charoen, Bueng Kan, Buri Ram, Chaiyaphum, Kalasin, Khon Kaen, Loei, Maha Sarakham, Mukdahan, Nakhon Phanom, Nakhon Ratchasima, Nong Bua Lamphu, Nong Khai, Roi Et, Sakon Nakhon, Si Sa Ket, Surin, Ubon Ratchathani, Udon Thani, Yasothon'\n",
    "northeast = northeast.split(\", \")\n",
    "\n",
    "north = 'Chiang Mai, Chiang Rai, Lampang, Lamphun, Mae Hong Son, Nan, Phayao, Phrae, Uttaradit, Tak, Sukhothai, Phitsanulok, Phichit, Kamphaeng Phet, Phetchabun, Nakhon Sawan, Uthai Thani'\n",
    "north = north.split(\", \")\n",
    "\n",
    "central = 'Ang Thong, Phra Nakhon Si Ayutthaya, Chai Nat, Lop Buri, Nakhon Pathom, Nonthaburi, Pathum Thani, Samut Prakan, Samut Sakhon, Samut Songkhram, Saraburi, Sing Buri, Suphan Buri, Nakhon Nayok, Chachoengsao, Chanthaburi, Chon Buri, Prachin Buri, Rayong, Sa Kaeo, Trat, Kanchanaburi, Ratchaburi, Phetchaburi, Prachuap Khiri Khan'\n",
    "central = central.split(\", \")\n",
    "\n",
    "south = 'Chumphon, Nakhon Si Thammarat, Narathiwat, Pattani, Phatthalung, Songkhla, Surat Thani, Yala, Krabi, Phang Nga, Phuket, Ranong, Satun, Trang'\n",
    "south = south.split(\", \")"
   ]
  },
  {
   "cell_type": "code",
   "execution_count": 57,
   "metadata": {},
   "outputs": [],
   "source": [
    "ne_counter = 0\n",
    "n_counter = 0\n",
    "c_counter = 0\n",
    "s_counter = 0\n",
    "\n",
    "for i in range(len(np.array(data['demogRegion']))):\n",
    "    if data['demogRegion'][i] == 'Greater Bangkok':\n",
    "        rand_cities[i] = 'Bangkok'\n",
    "    elif data['demogRegion'][i] == 'North-East':\n",
    "        rand_cities[i] = northeast[ne_counter % len(northeast)]\n",
    "        ne_counter += 1\n",
    "    elif data['demogRegion'][i] == 'North':\n",
    "        rand_cities[i] = north[n_counter % len(north)]\n",
    "        n_counter += 1\n",
    "    elif data['demogRegion'][i] == 'Central':\n",
    "        rand_cities[i] = central[c_counter % len(central)]\n",
    "        c_counter += 1\n",
    "    elif data['demogRegion'][i] == 'South':\n",
    "        rand_cities[i] = south[s_counter % len(south)]\n",
    "        s_counter += 1\n",
    "        \n",
    "data['randomCities'] = rand_cities"
   ]
  },
  {
   "cell_type": "markdown",
   "metadata": {},
   "source": [
    "## Save the dataset and move on to Tableau!"
   ]
  },
  {
   "cell_type": "code",
   "execution_count": 58,
   "metadata": {},
   "outputs": [],
   "source": [
    "data.to_excel('BEVERAGES_cleaned_randCities.xlsx')"
   ]
  }
 ],
 "metadata": {
  "kernelspec": {
   "display_name": "Python 3",
   "language": "python",
   "name": "python3"
  },
  "language_info": {
   "codemirror_mode": {
    "name": "ipython",
    "version": 3
   },
   "file_extension": ".py",
   "mimetype": "text/x-python",
   "name": "python",
   "nbconvert_exporter": "python",
   "pygments_lexer": "ipython3",
   "version": "3.7.4"
  }
 },
 "nbformat": 4,
 "nbformat_minor": 2
}
